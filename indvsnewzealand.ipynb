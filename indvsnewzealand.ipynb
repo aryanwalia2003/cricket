{
 "cells": [
  {
   "cell_type": "code",
   "execution_count": 228,
   "metadata": {},
   "outputs": [
    {
     "data": {
      "text/html": [
       "        <script type=\"text/javascript\">\n",
       "        window.PlotlyConfig = {MathJaxConfig: 'local'};\n",
       "        if (window.MathJax && window.MathJax.Hub && window.MathJax.Hub.Config) {window.MathJax.Hub.Config({SVG: {font: \"STIX-Web\"}});}\n",
       "        if (typeof require !== 'undefined') {\n",
       "        require.undef(\"plotly\");\n",
       "        requirejs.config({\n",
       "            paths: {\n",
       "                'plotly': ['https://cdn.plot.ly/plotly-2.14.0.min']\n",
       "            }\n",
       "        });\n",
       "        require(['plotly'], function(Plotly) {\n",
       "            window._Plotly = Plotly;\n",
       "        });\n",
       "        }\n",
       "        </script>\n",
       "        "
      ]
     },
     "metadata": {},
     "output_type": "display_data"
    },
    {
     "data": {
      "text/html": [
       "        <script type=\"text/javascript\">\n",
       "        window.PlotlyConfig = {MathJaxConfig: 'local'};\n",
       "        if (window.MathJax && window.MathJax.Hub && window.MathJax.Hub.Config) {window.MathJax.Hub.Config({SVG: {font: \"STIX-Web\"}});}\n",
       "        if (typeof require !== 'undefined') {\n",
       "        require.undef(\"plotly\");\n",
       "        requirejs.config({\n",
       "            paths: {\n",
       "                'plotly': ['https://cdn.plot.ly/plotly-2.14.0.min']\n",
       "            }\n",
       "        });\n",
       "        require(['plotly'], function(Plotly) {\n",
       "            window._Plotly = Plotly;\n",
       "        });\n",
       "        }\n",
       "        </script>\n",
       "        "
      ]
     },
     "metadata": {},
     "output_type": "display_data"
    }
   ],
   "source": [
    "import numpy as np\n",
    "import pandas as pd\n",
    "import matplotlib.pyplot as plt\n",
    "from googleapiclient.discovery import build\n",
    "import cufflinks as cf\n",
    "import chart_studio.plotly as py\n",
    "import plotly.express as px\n",
    "from plotly.offline import download_plotlyjs,init_notebook_mode,plot,iplot\n",
    "init_notebook_mode(connected=True)\n",
    "cf.go_offline()\n",
    "import plotly.graph_objects as go\n",
    "import json"
   ]
  },
  {
   "cell_type": "code",
   "execution_count": 229,
   "metadata": {},
   "outputs": [],
   "source": [
    "df=pd.read_html('https://stats.espncricinfo.com/ci/engine/records/individual/list_captains.html?class=1;id=5;id=6;type=headtohead')\n"
   ]
  },
  {
   "cell_type": "code",
   "execution_count": 230,
   "metadata": {},
   "outputs": [
    {
     "data": {
      "text/html": [
       "<div>\n",
       "<style scoped>\n",
       "    .dataframe tbody tr th:only-of-type {\n",
       "        vertical-align: middle;\n",
       "    }\n",
       "\n",
       "    .dataframe tbody tr th {\n",
       "        vertical-align: top;\n",
       "    }\n",
       "\n",
       "    .dataframe thead th {\n",
       "        text-align: right;\n",
       "    }\n",
       "</style>\n",
       "<table border=\"1\" class=\"dataframe\">\n",
       "  <thead>\n",
       "    <tr style=\"text-align: right;\">\n",
       "      <th></th>\n",
       "      <th>Unnamed: 0</th>\n",
       "      <th>Player</th>\n",
       "      <th>Span</th>\n",
       "      <th>Mat</th>\n",
       "      <th>Won</th>\n",
       "      <th>Lost</th>\n",
       "      <th>Tied</th>\n",
       "      <th>Draw</th>\n",
       "      <th>W/L</th>\n",
       "      <th>%W</th>\n",
       "      <th>%L</th>\n",
       "    </tr>\n",
       "  </thead>\n",
       "  <tbody>\n",
       "    <tr>\n",
       "      <th>0</th>\n",
       "      <td>0</td>\n",
       "      <td>HB Cave (NZ)</td>\n",
       "      <td>1955-1956</td>\n",
       "      <td>5</td>\n",
       "      <td>0</td>\n",
       "      <td>2</td>\n",
       "      <td>0</td>\n",
       "      <td>3</td>\n",
       "      <td>0.00</td>\n",
       "      <td>0.00</td>\n",
       "      <td>40.00</td>\n",
       "    </tr>\n",
       "    <tr>\n",
       "      <th>1</th>\n",
       "      <td>1</td>\n",
       "      <td>Ghulam Ahmed (INDIA)</td>\n",
       "      <td>1955-1955</td>\n",
       "      <td>1</td>\n",
       "      <td>0</td>\n",
       "      <td>0</td>\n",
       "      <td>0</td>\n",
       "      <td>1</td>\n",
       "      <td>0.00</td>\n",
       "      <td>0.00</td>\n",
       "      <td>0.00</td>\n",
       "    </tr>\n",
       "    <tr>\n",
       "      <th>2</th>\n",
       "      <td>2</td>\n",
       "      <td>PR Umrigar (INDIA)</td>\n",
       "      <td>1955-1956</td>\n",
       "      <td>4</td>\n",
       "      <td>2</td>\n",
       "      <td>0</td>\n",
       "      <td>0</td>\n",
       "      <td>2</td>\n",
       "      <td>-</td>\n",
       "      <td>50.00</td>\n",
       "      <td>0.00</td>\n",
       "    </tr>\n",
       "    <tr>\n",
       "      <th>3</th>\n",
       "      <td>3</td>\n",
       "      <td>Nawab of Pataudi (INDIA)</td>\n",
       "      <td>1965-1969</td>\n",
       "      <td>11</td>\n",
       "      <td>5</td>\n",
       "      <td>2</td>\n",
       "      <td>0</td>\n",
       "      <td>4</td>\n",
       "      <td>2.50</td>\n",
       "      <td>45.45</td>\n",
       "      <td>18.18</td>\n",
       "    </tr>\n",
       "    <tr>\n",
       "      <th>4</th>\n",
       "      <td>4</td>\n",
       "      <td>JR Reid (NZ)</td>\n",
       "      <td>1965-1965</td>\n",
       "      <td>4</td>\n",
       "      <td>0</td>\n",
       "      <td>1</td>\n",
       "      <td>0</td>\n",
       "      <td>3</td>\n",
       "      <td>0.00</td>\n",
       "      <td>0.00</td>\n",
       "      <td>25.00</td>\n",
       "    </tr>\n",
       "  </tbody>\n",
       "</table>\n",
       "</div>"
      ],
      "text/plain": [
       "   Unnamed: 0                    Player       Span  Mat  Won  Lost  Tied  \\\n",
       "0           0              HB Cave (NZ)  1955-1956    5    0     2     0   \n",
       "1           1      Ghulam Ahmed (INDIA)  1955-1955    1    0     0     0   \n",
       "2           2        PR Umrigar (INDIA)  1955-1956    4    2     0     0   \n",
       "3           3  Nawab of Pataudi (INDIA)  1965-1969   11    5     2     0   \n",
       "4           4              JR Reid (NZ)  1965-1965    4    0     1     0   \n",
       "\n",
       "   Draw   W/L     %W     %L  \n",
       "0     3  0.00   0.00  40.00  \n",
       "1     1  0.00   0.00   0.00  \n",
       "2     2     -  50.00   0.00  \n",
       "3     4  2.50  45.45  18.18  \n",
       "4     3  0.00   0.00  25.00  "
      ]
     },
     "execution_count": 230,
     "metadata": {},
     "output_type": "execute_result"
    }
   ],
   "source": [
    "df[0].to_csv('indvsnz_test_captain.csv')\n",
    "test_captain_df=pd.read_csv('indvsnz_test_captain.csv')\n",
    "test_captain_df.head()"
   ]
  },
  {
   "cell_type": "code",
   "execution_count": 231,
   "metadata": {},
   "outputs": [
    {
     "data": {
      "text/html": [
       "<div>\n",
       "<style scoped>\n",
       "    .dataframe tbody tr th:only-of-type {\n",
       "        vertical-align: middle;\n",
       "    }\n",
       "\n",
       "    .dataframe tbody tr th {\n",
       "        vertical-align: top;\n",
       "    }\n",
       "\n",
       "    .dataframe thead th {\n",
       "        text-align: right;\n",
       "    }\n",
       "</style>\n",
       "<table border=\"1\" class=\"dataframe\">\n",
       "  <thead>\n",
       "    <tr style=\"text-align: right;\">\n",
       "      <th></th>\n",
       "      <th>Unnamed: 0</th>\n",
       "      <th>Player</th>\n",
       "      <th>Span</th>\n",
       "      <th>Matches</th>\n",
       "      <th>Won</th>\n",
       "      <th>Lost</th>\n",
       "      <th>Tied</th>\n",
       "      <th>Draw</th>\n",
       "      <th>W/L</th>\n",
       "      <th>%W</th>\n",
       "      <th>%L</th>\n",
       "    </tr>\n",
       "  </thead>\n",
       "  <tbody>\n",
       "    <tr>\n",
       "      <th>11</th>\n",
       "      <td>11</td>\n",
       "      <td>DB Vengsarkar (INDIA)</td>\n",
       "      <td>1988-1988</td>\n",
       "      <td>3</td>\n",
       "      <td>2</td>\n",
       "      <td>1</td>\n",
       "      <td>0</td>\n",
       "      <td>0</td>\n",
       "      <td>2.00</td>\n",
       "      <td>66.66</td>\n",
       "      <td>33.33</td>\n",
       "    </tr>\n",
       "    <tr>\n",
       "      <th>25</th>\n",
       "      <td>25</td>\n",
       "      <td>V Kohli (INDIA)</td>\n",
       "      <td>2016-2021</td>\n",
       "      <td>7</td>\n",
       "      <td>4</td>\n",
       "      <td>3</td>\n",
       "      <td>0</td>\n",
       "      <td>0</td>\n",
       "      <td>1.33</td>\n",
       "      <td>57.14</td>\n",
       "      <td>42.85</td>\n",
       "    </tr>\n",
       "    <tr>\n",
       "      <th>2</th>\n",
       "      <td>2</td>\n",
       "      <td>PR Umrigar (INDIA)</td>\n",
       "      <td>1955-1956</td>\n",
       "      <td>4</td>\n",
       "      <td>2</td>\n",
       "      <td>0</td>\n",
       "      <td>0</td>\n",
       "      <td>2</td>\n",
       "      <td>-</td>\n",
       "      <td>50.00</td>\n",
       "      <td>0.00</td>\n",
       "    </tr>\n",
       "    <tr>\n",
       "      <th>26</th>\n",
       "      <td>26</td>\n",
       "      <td>KS Williamson (NZ)</td>\n",
       "      <td>2016-2021</td>\n",
       "      <td>6</td>\n",
       "      <td>3</td>\n",
       "      <td>2</td>\n",
       "      <td>0</td>\n",
       "      <td>1</td>\n",
       "      <td>1.50</td>\n",
       "      <td>50.00</td>\n",
       "      <td>33.33</td>\n",
       "    </tr>\n",
       "    <tr>\n",
       "      <th>3</th>\n",
       "      <td>3</td>\n",
       "      <td>Nawab of Pataudi (INDIA)</td>\n",
       "      <td>1965-1969</td>\n",
       "      <td>11</td>\n",
       "      <td>5</td>\n",
       "      <td>2</td>\n",
       "      <td>0</td>\n",
       "      <td>4</td>\n",
       "      <td>2.50</td>\n",
       "      <td>45.45</td>\n",
       "      <td>18.18</td>\n",
       "    </tr>\n",
       "    <tr>\n",
       "      <th>20</th>\n",
       "      <td>20</td>\n",
       "      <td>MS Dhoni (INDIA)</td>\n",
       "      <td>2009-2014</td>\n",
       "      <td>9</td>\n",
       "      <td>4</td>\n",
       "      <td>1</td>\n",
       "      <td>0</td>\n",
       "      <td>4</td>\n",
       "      <td>4.00</td>\n",
       "      <td>44.44</td>\n",
       "      <td>11.11</td>\n",
       "    </tr>\n",
       "    <tr>\n",
       "      <th>9</th>\n",
       "      <td>9</td>\n",
       "      <td>BS Bedi (INDIA)</td>\n",
       "      <td>1976-1976</td>\n",
       "      <td>5</td>\n",
       "      <td>2</td>\n",
       "      <td>1</td>\n",
       "      <td>0</td>\n",
       "      <td>2</td>\n",
       "      <td>2.00</td>\n",
       "      <td>40.00</td>\n",
       "      <td>20.00</td>\n",
       "    </tr>\n",
       "    <tr>\n",
       "      <th>6</th>\n",
       "      <td>6</td>\n",
       "      <td>GT Dowling (NZ)</td>\n",
       "      <td>1968-1969</td>\n",
       "      <td>6</td>\n",
       "      <td>2</td>\n",
       "      <td>3</td>\n",
       "      <td>0</td>\n",
       "      <td>1</td>\n",
       "      <td>0.66</td>\n",
       "      <td>33.33</td>\n",
       "      <td>50.00</td>\n",
       "    </tr>\n",
       "    <tr>\n",
       "      <th>12</th>\n",
       "      <td>12</td>\n",
       "      <td>JG Wright (NZ)</td>\n",
       "      <td>1988-1990</td>\n",
       "      <td>6</td>\n",
       "      <td>2</td>\n",
       "      <td>2</td>\n",
       "      <td>0</td>\n",
       "      <td>2</td>\n",
       "      <td>1.00</td>\n",
       "      <td>33.33</td>\n",
       "      <td>33.33</td>\n",
       "    </tr>\n",
       "    <tr>\n",
       "      <th>16</th>\n",
       "      <td>16</td>\n",
       "      <td>SP Fleming (NZ)</td>\n",
       "      <td>1998-2003</td>\n",
       "      <td>9</td>\n",
       "      <td>3</td>\n",
       "      <td>1</td>\n",
       "      <td>0</td>\n",
       "      <td>5</td>\n",
       "      <td>3.00</td>\n",
       "      <td>33.33</td>\n",
       "      <td>11.11</td>\n",
       "    </tr>\n",
       "  </tbody>\n",
       "</table>\n",
       "</div>"
      ],
      "text/plain": [
       "    Unnamed: 0                    Player       Span  Matches  Won  Lost  Tied  \\\n",
       "11          11     DB Vengsarkar (INDIA)  1988-1988        3    2     1     0   \n",
       "25          25           V Kohli (INDIA)  2016-2021        7    4     3     0   \n",
       "2            2        PR Umrigar (INDIA)  1955-1956        4    2     0     0   \n",
       "26          26        KS Williamson (NZ)  2016-2021        6    3     2     0   \n",
       "3            3  Nawab of Pataudi (INDIA)  1965-1969       11    5     2     0   \n",
       "20          20          MS Dhoni (INDIA)  2009-2014        9    4     1     0   \n",
       "9            9           BS Bedi (INDIA)  1976-1976        5    2     1     0   \n",
       "6            6           GT Dowling (NZ)  1968-1969        6    2     3     0   \n",
       "12          12            JG Wright (NZ)  1988-1990        6    2     2     0   \n",
       "16          16           SP Fleming (NZ)  1998-2003        9    3     1     0   \n",
       "\n",
       "    Draw   W/L     %W     %L  \n",
       "11     0  2.00  66.66  33.33  \n",
       "25     0  1.33  57.14  42.85  \n",
       "2      2     -  50.00   0.00  \n",
       "26     1  1.50  50.00  33.33  \n",
       "3      4  2.50  45.45  18.18  \n",
       "20     4  4.00  44.44  11.11  \n",
       "9      2  2.00  40.00  20.00  \n",
       "6      1  0.66  33.33  50.00  \n",
       "12     2  1.00  33.33  33.33  \n",
       "16     5  3.00  33.33  11.11  "
      ]
     },
     "execution_count": 231,
     "metadata": {},
     "output_type": "execute_result"
    }
   ],
   "source": [
    "test_captain_df.rename(columns={'Mat':'Matches'},inplace=True)\n",
    "succesful_test_captain=test_captain_df.loc[test_captain_df.Won>1]\n",
    "succesful_test_captain.sort_values(by='%W',ascending=False)\n",
    "# succesful_test_captain_df.sort_values(by='%W',ascending=False)\n",
    "# test_captain_df"
   ]
  },
  {
   "cell_type": "code",
   "execution_count": 232,
   "metadata": {},
   "outputs": [
    {
     "data": {
      "application/vnd.plotly.v1+json": {
       "config": {
        "plotlyServerURL": "https://plot.ly"
       },
       "data": [
        {
         "alignmentgroup": "True",
         "customdata": [
          [
           "1988-1988",
           3
          ],
          [
           "2016-2021",
           7
          ],
          [
           "1955-1956",
           4
          ],
          [
           "2016-2021",
           6
          ],
          [
           "1965-1969",
           11
          ],
          [
           "2009-2014",
           9
          ],
          [
           "1976-1976",
           5
          ],
          [
           "1968-1969",
           6
          ],
          [
           "1988-1990",
           6
          ],
          [
           "1998-2003",
           9
          ]
         ],
         "hovertemplate": "<b>%{hovertext}</b><br><br>Player=%{x}<br>%W=%{marker.color}<br>Span=%{customdata[0]}<br>Matches=%{customdata[1]}<extra></extra>",
         "hovertext": [
          "DB Vengsarkar (INDIA)",
          "V Kohli (INDIA)",
          "PR Umrigar (INDIA)",
          "KS Williamson (NZ)",
          "Nawab of Pataudi (INDIA)",
          "MS Dhoni (INDIA)",
          "BS Bedi (INDIA)",
          "GT Dowling (NZ)",
          "JG Wright (NZ)",
          "SP Fleming (NZ)"
         ],
         "legendgroup": "",
         "marker": {
          "color": [
           66.66,
           57.14,
           50,
           50,
           45.45,
           44.44,
           40,
           33.33,
           33.33,
           33.33
          ],
          "coloraxis": "coloraxis",
          "pattern": {
           "shape": ""
          }
         },
         "name": "",
         "offsetgroup": "",
         "orientation": "v",
         "showlegend": false,
         "text": [
          66.66,
          57.14,
          50,
          50,
          45.45,
          44.44,
          40,
          33.33,
          33.33,
          33.33
         ],
         "textposition": "outside",
         "texttemplate": "%{text:.4s}",
         "type": "bar",
         "x": [
          "DB Vengsarkar (INDIA)",
          "V Kohli (INDIA)",
          "PR Umrigar (INDIA)",
          "KS Williamson (NZ)",
          "Nawab of Pataudi (INDIA)",
          "MS Dhoni (INDIA)",
          "BS Bedi (INDIA)",
          "GT Dowling (NZ)",
          "JG Wright (NZ)",
          "SP Fleming (NZ)"
         ],
         "xaxis": "x",
         "y": [
          66.66,
          57.14,
          50,
          50,
          45.45,
          44.44,
          40,
          33.33,
          33.33,
          33.33
         ],
         "yaxis": "y"
        }
       ],
       "layout": {
        "barmode": "relative",
        "coloraxis": {
         "colorbar": {
          "title": {
           "text": "%W"
          }
         },
         "colorscale": [
          [
           0,
           "#0d0887"
          ],
          [
           0.1111111111111111,
           "#46039f"
          ],
          [
           0.2222222222222222,
           "#7201a8"
          ],
          [
           0.3333333333333333,
           "#9c179e"
          ],
          [
           0.4444444444444444,
           "#bd3786"
          ],
          [
           0.5555555555555556,
           "#d8576b"
          ],
          [
           0.6666666666666666,
           "#ed7953"
          ],
          [
           0.7777777777777778,
           "#fb9f3a"
          ],
          [
           0.8888888888888888,
           "#fdca26"
          ],
          [
           1,
           "#f0f921"
          ]
         ]
        },
        "height": 800,
        "legend": {
         "tracegroupgap": 0
        },
        "template": {
         "data": {
          "bar": [
           {
            "error_x": {
             "color": "#2a3f5f"
            },
            "error_y": {
             "color": "#2a3f5f"
            },
            "marker": {
             "line": {
              "color": "#E5ECF6",
              "width": 0.5
             },
             "pattern": {
              "fillmode": "overlay",
              "size": 10,
              "solidity": 0.2
             }
            },
            "type": "bar"
           }
          ],
          "barpolar": [
           {
            "marker": {
             "line": {
              "color": "#E5ECF6",
              "width": 0.5
             },
             "pattern": {
              "fillmode": "overlay",
              "size": 10,
              "solidity": 0.2
             }
            },
            "type": "barpolar"
           }
          ],
          "carpet": [
           {
            "aaxis": {
             "endlinecolor": "#2a3f5f",
             "gridcolor": "white",
             "linecolor": "white",
             "minorgridcolor": "white",
             "startlinecolor": "#2a3f5f"
            },
            "baxis": {
             "endlinecolor": "#2a3f5f",
             "gridcolor": "white",
             "linecolor": "white",
             "minorgridcolor": "white",
             "startlinecolor": "#2a3f5f"
            },
            "type": "carpet"
           }
          ],
          "choropleth": [
           {
            "colorbar": {
             "outlinewidth": 0,
             "ticks": ""
            },
            "type": "choropleth"
           }
          ],
          "contour": [
           {
            "colorbar": {
             "outlinewidth": 0,
             "ticks": ""
            },
            "colorscale": [
             [
              0,
              "#0d0887"
             ],
             [
              0.1111111111111111,
              "#46039f"
             ],
             [
              0.2222222222222222,
              "#7201a8"
             ],
             [
              0.3333333333333333,
              "#9c179e"
             ],
             [
              0.4444444444444444,
              "#bd3786"
             ],
             [
              0.5555555555555556,
              "#d8576b"
             ],
             [
              0.6666666666666666,
              "#ed7953"
             ],
             [
              0.7777777777777778,
              "#fb9f3a"
             ],
             [
              0.8888888888888888,
              "#fdca26"
             ],
             [
              1,
              "#f0f921"
             ]
            ],
            "type": "contour"
           }
          ],
          "contourcarpet": [
           {
            "colorbar": {
             "outlinewidth": 0,
             "ticks": ""
            },
            "type": "contourcarpet"
           }
          ],
          "heatmap": [
           {
            "colorbar": {
             "outlinewidth": 0,
             "ticks": ""
            },
            "colorscale": [
             [
              0,
              "#0d0887"
             ],
             [
              0.1111111111111111,
              "#46039f"
             ],
             [
              0.2222222222222222,
              "#7201a8"
             ],
             [
              0.3333333333333333,
              "#9c179e"
             ],
             [
              0.4444444444444444,
              "#bd3786"
             ],
             [
              0.5555555555555556,
              "#d8576b"
             ],
             [
              0.6666666666666666,
              "#ed7953"
             ],
             [
              0.7777777777777778,
              "#fb9f3a"
             ],
             [
              0.8888888888888888,
              "#fdca26"
             ],
             [
              1,
              "#f0f921"
             ]
            ],
            "type": "heatmap"
           }
          ],
          "heatmapgl": [
           {
            "colorbar": {
             "outlinewidth": 0,
             "ticks": ""
            },
            "colorscale": [
             [
              0,
              "#0d0887"
             ],
             [
              0.1111111111111111,
              "#46039f"
             ],
             [
              0.2222222222222222,
              "#7201a8"
             ],
             [
              0.3333333333333333,
              "#9c179e"
             ],
             [
              0.4444444444444444,
              "#bd3786"
             ],
             [
              0.5555555555555556,
              "#d8576b"
             ],
             [
              0.6666666666666666,
              "#ed7953"
             ],
             [
              0.7777777777777778,
              "#fb9f3a"
             ],
             [
              0.8888888888888888,
              "#fdca26"
             ],
             [
              1,
              "#f0f921"
             ]
            ],
            "type": "heatmapgl"
           }
          ],
          "histogram": [
           {
            "marker": {
             "pattern": {
              "fillmode": "overlay",
              "size": 10,
              "solidity": 0.2
             }
            },
            "type": "histogram"
           }
          ],
          "histogram2d": [
           {
            "colorbar": {
             "outlinewidth": 0,
             "ticks": ""
            },
            "colorscale": [
             [
              0,
              "#0d0887"
             ],
             [
              0.1111111111111111,
              "#46039f"
             ],
             [
              0.2222222222222222,
              "#7201a8"
             ],
             [
              0.3333333333333333,
              "#9c179e"
             ],
             [
              0.4444444444444444,
              "#bd3786"
             ],
             [
              0.5555555555555556,
              "#d8576b"
             ],
             [
              0.6666666666666666,
              "#ed7953"
             ],
             [
              0.7777777777777778,
              "#fb9f3a"
             ],
             [
              0.8888888888888888,
              "#fdca26"
             ],
             [
              1,
              "#f0f921"
             ]
            ],
            "type": "histogram2d"
           }
          ],
          "histogram2dcontour": [
           {
            "colorbar": {
             "outlinewidth": 0,
             "ticks": ""
            },
            "colorscale": [
             [
              0,
              "#0d0887"
             ],
             [
              0.1111111111111111,
              "#46039f"
             ],
             [
              0.2222222222222222,
              "#7201a8"
             ],
             [
              0.3333333333333333,
              "#9c179e"
             ],
             [
              0.4444444444444444,
              "#bd3786"
             ],
             [
              0.5555555555555556,
              "#d8576b"
             ],
             [
              0.6666666666666666,
              "#ed7953"
             ],
             [
              0.7777777777777778,
              "#fb9f3a"
             ],
             [
              0.8888888888888888,
              "#fdca26"
             ],
             [
              1,
              "#f0f921"
             ]
            ],
            "type": "histogram2dcontour"
           }
          ],
          "mesh3d": [
           {
            "colorbar": {
             "outlinewidth": 0,
             "ticks": ""
            },
            "type": "mesh3d"
           }
          ],
          "parcoords": [
           {
            "line": {
             "colorbar": {
              "outlinewidth": 0,
              "ticks": ""
             }
            },
            "type": "parcoords"
           }
          ],
          "pie": [
           {
            "automargin": true,
            "type": "pie"
           }
          ],
          "scatter": [
           {
            "fillpattern": {
             "fillmode": "overlay",
             "size": 10,
             "solidity": 0.2
            },
            "type": "scatter"
           }
          ],
          "scatter3d": [
           {
            "line": {
             "colorbar": {
              "outlinewidth": 0,
              "ticks": ""
             }
            },
            "marker": {
             "colorbar": {
              "outlinewidth": 0,
              "ticks": ""
             }
            },
            "type": "scatter3d"
           }
          ],
          "scattercarpet": [
           {
            "marker": {
             "colorbar": {
              "outlinewidth": 0,
              "ticks": ""
             }
            },
            "type": "scattercarpet"
           }
          ],
          "scattergeo": [
           {
            "marker": {
             "colorbar": {
              "outlinewidth": 0,
              "ticks": ""
             }
            },
            "type": "scattergeo"
           }
          ],
          "scattergl": [
           {
            "marker": {
             "colorbar": {
              "outlinewidth": 0,
              "ticks": ""
             }
            },
            "type": "scattergl"
           }
          ],
          "scattermapbox": [
           {
            "marker": {
             "colorbar": {
              "outlinewidth": 0,
              "ticks": ""
             }
            },
            "type": "scattermapbox"
           }
          ],
          "scatterpolar": [
           {
            "marker": {
             "colorbar": {
              "outlinewidth": 0,
              "ticks": ""
             }
            },
            "type": "scatterpolar"
           }
          ],
          "scatterpolargl": [
           {
            "marker": {
             "colorbar": {
              "outlinewidth": 0,
              "ticks": ""
             }
            },
            "type": "scatterpolargl"
           }
          ],
          "scatterternary": [
           {
            "marker": {
             "colorbar": {
              "outlinewidth": 0,
              "ticks": ""
             }
            },
            "type": "scatterternary"
           }
          ],
          "surface": [
           {
            "colorbar": {
             "outlinewidth": 0,
             "ticks": ""
            },
            "colorscale": [
             [
              0,
              "#0d0887"
             ],
             [
              0.1111111111111111,
              "#46039f"
             ],
             [
              0.2222222222222222,
              "#7201a8"
             ],
             [
              0.3333333333333333,
              "#9c179e"
             ],
             [
              0.4444444444444444,
              "#bd3786"
             ],
             [
              0.5555555555555556,
              "#d8576b"
             ],
             [
              0.6666666666666666,
              "#ed7953"
             ],
             [
              0.7777777777777778,
              "#fb9f3a"
             ],
             [
              0.8888888888888888,
              "#fdca26"
             ],
             [
              1,
              "#f0f921"
             ]
            ],
            "type": "surface"
           }
          ],
          "table": [
           {
            "cells": {
             "fill": {
              "color": "#EBF0F8"
             },
             "line": {
              "color": "white"
             }
            },
            "header": {
             "fill": {
              "color": "#C8D4E3"
             },
             "line": {
              "color": "white"
             }
            },
            "type": "table"
           }
          ]
         },
         "layout": {
          "annotationdefaults": {
           "arrowcolor": "#2a3f5f",
           "arrowhead": 0,
           "arrowwidth": 1
          },
          "autotypenumbers": "strict",
          "coloraxis": {
           "colorbar": {
            "outlinewidth": 0,
            "ticks": ""
           }
          },
          "colorscale": {
           "diverging": [
            [
             0,
             "#8e0152"
            ],
            [
             0.1,
             "#c51b7d"
            ],
            [
             0.2,
             "#de77ae"
            ],
            [
             0.3,
             "#f1b6da"
            ],
            [
             0.4,
             "#fde0ef"
            ],
            [
             0.5,
             "#f7f7f7"
            ],
            [
             0.6,
             "#e6f5d0"
            ],
            [
             0.7,
             "#b8e186"
            ],
            [
             0.8,
             "#7fbc41"
            ],
            [
             0.9,
             "#4d9221"
            ],
            [
             1,
             "#276419"
            ]
           ],
           "sequential": [
            [
             0,
             "#0d0887"
            ],
            [
             0.1111111111111111,
             "#46039f"
            ],
            [
             0.2222222222222222,
             "#7201a8"
            ],
            [
             0.3333333333333333,
             "#9c179e"
            ],
            [
             0.4444444444444444,
             "#bd3786"
            ],
            [
             0.5555555555555556,
             "#d8576b"
            ],
            [
             0.6666666666666666,
             "#ed7953"
            ],
            [
             0.7777777777777778,
             "#fb9f3a"
            ],
            [
             0.8888888888888888,
             "#fdca26"
            ],
            [
             1,
             "#f0f921"
            ]
           ],
           "sequentialminus": [
            [
             0,
             "#0d0887"
            ],
            [
             0.1111111111111111,
             "#46039f"
            ],
            [
             0.2222222222222222,
             "#7201a8"
            ],
            [
             0.3333333333333333,
             "#9c179e"
            ],
            [
             0.4444444444444444,
             "#bd3786"
            ],
            [
             0.5555555555555556,
             "#d8576b"
            ],
            [
             0.6666666666666666,
             "#ed7953"
            ],
            [
             0.7777777777777778,
             "#fb9f3a"
            ],
            [
             0.8888888888888888,
             "#fdca26"
            ],
            [
             1,
             "#f0f921"
            ]
           ]
          },
          "colorway": [
           "#636efa",
           "#EF553B",
           "#00cc96",
           "#ab63fa",
           "#FFA15A",
           "#19d3f3",
           "#FF6692",
           "#B6E880",
           "#FF97FF",
           "#FECB52"
          ],
          "font": {
           "color": "#2a3f5f"
          },
          "geo": {
           "bgcolor": "white",
           "lakecolor": "white",
           "landcolor": "#E5ECF6",
           "showlakes": true,
           "showland": true,
           "subunitcolor": "white"
          },
          "hoverlabel": {
           "align": "left"
          },
          "hovermode": "closest",
          "mapbox": {
           "style": "light"
          },
          "paper_bgcolor": "white",
          "plot_bgcolor": "#E5ECF6",
          "polar": {
           "angularaxis": {
            "gridcolor": "white",
            "linecolor": "white",
            "ticks": ""
           },
           "bgcolor": "#E5ECF6",
           "radialaxis": {
            "gridcolor": "white",
            "linecolor": "white",
            "ticks": ""
           }
          },
          "scene": {
           "xaxis": {
            "backgroundcolor": "#E5ECF6",
            "gridcolor": "white",
            "gridwidth": 2,
            "linecolor": "white",
            "showbackground": true,
            "ticks": "",
            "zerolinecolor": "white"
           },
           "yaxis": {
            "backgroundcolor": "#E5ECF6",
            "gridcolor": "white",
            "gridwidth": 2,
            "linecolor": "white",
            "showbackground": true,
            "ticks": "",
            "zerolinecolor": "white"
           },
           "zaxis": {
            "backgroundcolor": "#E5ECF6",
            "gridcolor": "white",
            "gridwidth": 2,
            "linecolor": "white",
            "showbackground": true,
            "ticks": "",
            "zerolinecolor": "white"
           }
          },
          "shapedefaults": {
           "line": {
            "color": "#2a3f5f"
           }
          },
          "ternary": {
           "aaxis": {
            "gridcolor": "white",
            "linecolor": "white",
            "ticks": ""
           },
           "baxis": {
            "gridcolor": "white",
            "linecolor": "white",
            "ticks": ""
           },
           "bgcolor": "#E5ECF6",
           "caxis": {
            "gridcolor": "white",
            "linecolor": "white",
            "ticks": ""
           }
          },
          "title": {
           "x": 0.05
          },
          "xaxis": {
           "automargin": true,
           "gridcolor": "white",
           "linecolor": "white",
           "ticks": "",
           "title": {
            "standoff": 15
           },
           "zerolinecolor": "white",
           "zerolinewidth": 2
          },
          "yaxis": {
           "automargin": true,
           "gridcolor": "white",
           "linecolor": "white",
           "ticks": "",
           "title": {
            "standoff": 15
           },
           "zerolinecolor": "white",
           "zerolinewidth": 2
          }
         }
        },
        "title": {
         "text": "Captains with heighest win % in IND VS NZ Test"
        },
        "xaxis": {
         "anchor": "y",
         "domain": [
          0,
          1
         ],
         "title": {
          "text": "Player"
         }
        },
        "yaxis": {
         "anchor": "x",
         "domain": [
          0,
          1
         ],
         "title": {
          "text": "%W"
         }
        }
       }
      },
      "text/html": [
       "<div>                            <div id=\"e759a17f-4ee7-4257-96ed-5f0ae7d1ca98\" class=\"plotly-graph-div\" style=\"height:800px; width:100%;\"></div>            <script type=\"text/javascript\">                require([\"plotly\"], function(Plotly) {                    window.PLOTLYENV=window.PLOTLYENV || {};                                    if (document.getElementById(\"e759a17f-4ee7-4257-96ed-5f0ae7d1ca98\")) {                    Plotly.newPlot(                        \"e759a17f-4ee7-4257-96ed-5f0ae7d1ca98\",                        [{\"alignmentgroup\":\"True\",\"customdata\":[[\"1988-1988\",3],[\"2016-2021\",7],[\"1955-1956\",4],[\"2016-2021\",6],[\"1965-1969\",11],[\"2009-2014\",9],[\"1976-1976\",5],[\"1968-1969\",6],[\"1988-1990\",6],[\"1998-2003\",9]],\"hovertemplate\":\"<b>%{hovertext}</b><br><br>Player=%{x}<br>%W=%{marker.color}<br>Span=%{customdata[0]}<br>Matches=%{customdata[1]}<extra></extra>\",\"hovertext\":[\"DB Vengsarkar (INDIA)\",\"V Kohli (INDIA)\",\"PR Umrigar (INDIA)\",\"KS Williamson (NZ)\",\"Nawab of Pataudi (INDIA)\",\"MS Dhoni (INDIA)\",\"BS Bedi (INDIA)\",\"GT Dowling (NZ)\",\"JG Wright (NZ)\",\"SP Fleming (NZ)\"],\"legendgroup\":\"\",\"marker\":{\"color\":[66.66,57.14,50.0,50.0,45.45,44.44,40.0,33.33,33.33,33.33],\"coloraxis\":\"coloraxis\",\"pattern\":{\"shape\":\"\"}},\"name\":\"\",\"offsetgroup\":\"\",\"orientation\":\"v\",\"showlegend\":false,\"text\":[66.66,57.14,50.0,50.0,45.45,44.44,40.0,33.33,33.33,33.33],\"textposition\":\"outside\",\"x\":[\"DB Vengsarkar (INDIA)\",\"V Kohli (INDIA)\",\"PR Umrigar (INDIA)\",\"KS Williamson (NZ)\",\"Nawab of Pataudi (INDIA)\",\"MS Dhoni (INDIA)\",\"BS Bedi (INDIA)\",\"GT Dowling (NZ)\",\"JG Wright (NZ)\",\"SP Fleming (NZ)\"],\"xaxis\":\"x\",\"y\":[66.66,57.14,50.0,50.0,45.45,44.44,40.0,33.33,33.33,33.33],\"yaxis\":\"y\",\"type\":\"bar\",\"texttemplate\":\"%{text:.4s}\"}],                        {\"template\":{\"data\":{\"histogram2dcontour\":[{\"type\":\"histogram2dcontour\",\"colorbar\":{\"outlinewidth\":0,\"ticks\":\"\"},\"colorscale\":[[0.0,\"#0d0887\"],[0.1111111111111111,\"#46039f\"],[0.2222222222222222,\"#7201a8\"],[0.3333333333333333,\"#9c179e\"],[0.4444444444444444,\"#bd3786\"],[0.5555555555555556,\"#d8576b\"],[0.6666666666666666,\"#ed7953\"],[0.7777777777777778,\"#fb9f3a\"],[0.8888888888888888,\"#fdca26\"],[1.0,\"#f0f921\"]]}],\"choropleth\":[{\"type\":\"choropleth\",\"colorbar\":{\"outlinewidth\":0,\"ticks\":\"\"}}],\"histogram2d\":[{\"type\":\"histogram2d\",\"colorbar\":{\"outlinewidth\":0,\"ticks\":\"\"},\"colorscale\":[[0.0,\"#0d0887\"],[0.1111111111111111,\"#46039f\"],[0.2222222222222222,\"#7201a8\"],[0.3333333333333333,\"#9c179e\"],[0.4444444444444444,\"#bd3786\"],[0.5555555555555556,\"#d8576b\"],[0.6666666666666666,\"#ed7953\"],[0.7777777777777778,\"#fb9f3a\"],[0.8888888888888888,\"#fdca26\"],[1.0,\"#f0f921\"]]}],\"heatmap\":[{\"type\":\"heatmap\",\"colorbar\":{\"outlinewidth\":0,\"ticks\":\"\"},\"colorscale\":[[0.0,\"#0d0887\"],[0.1111111111111111,\"#46039f\"],[0.2222222222222222,\"#7201a8\"],[0.3333333333333333,\"#9c179e\"],[0.4444444444444444,\"#bd3786\"],[0.5555555555555556,\"#d8576b\"],[0.6666666666666666,\"#ed7953\"],[0.7777777777777778,\"#fb9f3a\"],[0.8888888888888888,\"#fdca26\"],[1.0,\"#f0f921\"]]}],\"heatmapgl\":[{\"type\":\"heatmapgl\",\"colorbar\":{\"outlinewidth\":0,\"ticks\":\"\"},\"colorscale\":[[0.0,\"#0d0887\"],[0.1111111111111111,\"#46039f\"],[0.2222222222222222,\"#7201a8\"],[0.3333333333333333,\"#9c179e\"],[0.4444444444444444,\"#bd3786\"],[0.5555555555555556,\"#d8576b\"],[0.6666666666666666,\"#ed7953\"],[0.7777777777777778,\"#fb9f3a\"],[0.8888888888888888,\"#fdca26\"],[1.0,\"#f0f921\"]]}],\"contourcarpet\":[{\"type\":\"contourcarpet\",\"colorbar\":{\"outlinewidth\":0,\"ticks\":\"\"}}],\"contour\":[{\"type\":\"contour\",\"colorbar\":{\"outlinewidth\":0,\"ticks\":\"\"},\"colorscale\":[[0.0,\"#0d0887\"],[0.1111111111111111,\"#46039f\"],[0.2222222222222222,\"#7201a8\"],[0.3333333333333333,\"#9c179e\"],[0.4444444444444444,\"#bd3786\"],[0.5555555555555556,\"#d8576b\"],[0.6666666666666666,\"#ed7953\"],[0.7777777777777778,\"#fb9f3a\"],[0.8888888888888888,\"#fdca26\"],[1.0,\"#f0f921\"]]}],\"surface\":[{\"type\":\"surface\",\"colorbar\":{\"outlinewidth\":0,\"ticks\":\"\"},\"colorscale\":[[0.0,\"#0d0887\"],[0.1111111111111111,\"#46039f\"],[0.2222222222222222,\"#7201a8\"],[0.3333333333333333,\"#9c179e\"],[0.4444444444444444,\"#bd3786\"],[0.5555555555555556,\"#d8576b\"],[0.6666666666666666,\"#ed7953\"],[0.7777777777777778,\"#fb9f3a\"],[0.8888888888888888,\"#fdca26\"],[1.0,\"#f0f921\"]]}],\"mesh3d\":[{\"type\":\"mesh3d\",\"colorbar\":{\"outlinewidth\":0,\"ticks\":\"\"}}],\"scatter\":[{\"fillpattern\":{\"fillmode\":\"overlay\",\"size\":10,\"solidity\":0.2},\"type\":\"scatter\"}],\"parcoords\":[{\"type\":\"parcoords\",\"line\":{\"colorbar\":{\"outlinewidth\":0,\"ticks\":\"\"}}}],\"scatterpolargl\":[{\"type\":\"scatterpolargl\",\"marker\":{\"colorbar\":{\"outlinewidth\":0,\"ticks\":\"\"}}}],\"bar\":[{\"error_x\":{\"color\":\"#2a3f5f\"},\"error_y\":{\"color\":\"#2a3f5f\"},\"marker\":{\"line\":{\"color\":\"#E5ECF6\",\"width\":0.5},\"pattern\":{\"fillmode\":\"overlay\",\"size\":10,\"solidity\":0.2}},\"type\":\"bar\"}],\"scattergeo\":[{\"type\":\"scattergeo\",\"marker\":{\"colorbar\":{\"outlinewidth\":0,\"ticks\":\"\"}}}],\"scatterpolar\":[{\"type\":\"scatterpolar\",\"marker\":{\"colorbar\":{\"outlinewidth\":0,\"ticks\":\"\"}}}],\"histogram\":[{\"marker\":{\"pattern\":{\"fillmode\":\"overlay\",\"size\":10,\"solidity\":0.2}},\"type\":\"histogram\"}],\"scattergl\":[{\"type\":\"scattergl\",\"marker\":{\"colorbar\":{\"outlinewidth\":0,\"ticks\":\"\"}}}],\"scatter3d\":[{\"type\":\"scatter3d\",\"line\":{\"colorbar\":{\"outlinewidth\":0,\"ticks\":\"\"}},\"marker\":{\"colorbar\":{\"outlinewidth\":0,\"ticks\":\"\"}}}],\"scattermapbox\":[{\"type\":\"scattermapbox\",\"marker\":{\"colorbar\":{\"outlinewidth\":0,\"ticks\":\"\"}}}],\"scatterternary\":[{\"type\":\"scatterternary\",\"marker\":{\"colorbar\":{\"outlinewidth\":0,\"ticks\":\"\"}}}],\"scattercarpet\":[{\"type\":\"scattercarpet\",\"marker\":{\"colorbar\":{\"outlinewidth\":0,\"ticks\":\"\"}}}],\"carpet\":[{\"aaxis\":{\"endlinecolor\":\"#2a3f5f\",\"gridcolor\":\"white\",\"linecolor\":\"white\",\"minorgridcolor\":\"white\",\"startlinecolor\":\"#2a3f5f\"},\"baxis\":{\"endlinecolor\":\"#2a3f5f\",\"gridcolor\":\"white\",\"linecolor\":\"white\",\"minorgridcolor\":\"white\",\"startlinecolor\":\"#2a3f5f\"},\"type\":\"carpet\"}],\"table\":[{\"cells\":{\"fill\":{\"color\":\"#EBF0F8\"},\"line\":{\"color\":\"white\"}},\"header\":{\"fill\":{\"color\":\"#C8D4E3\"},\"line\":{\"color\":\"white\"}},\"type\":\"table\"}],\"barpolar\":[{\"marker\":{\"line\":{\"color\":\"#E5ECF6\",\"width\":0.5},\"pattern\":{\"fillmode\":\"overlay\",\"size\":10,\"solidity\":0.2}},\"type\":\"barpolar\"}],\"pie\":[{\"automargin\":true,\"type\":\"pie\"}]},\"layout\":{\"autotypenumbers\":\"strict\",\"colorway\":[\"#636efa\",\"#EF553B\",\"#00cc96\",\"#ab63fa\",\"#FFA15A\",\"#19d3f3\",\"#FF6692\",\"#B6E880\",\"#FF97FF\",\"#FECB52\"],\"font\":{\"color\":\"#2a3f5f\"},\"hovermode\":\"closest\",\"hoverlabel\":{\"align\":\"left\"},\"paper_bgcolor\":\"white\",\"plot_bgcolor\":\"#E5ECF6\",\"polar\":{\"bgcolor\":\"#E5ECF6\",\"angularaxis\":{\"gridcolor\":\"white\",\"linecolor\":\"white\",\"ticks\":\"\"},\"radialaxis\":{\"gridcolor\":\"white\",\"linecolor\":\"white\",\"ticks\":\"\"}},\"ternary\":{\"bgcolor\":\"#E5ECF6\",\"aaxis\":{\"gridcolor\":\"white\",\"linecolor\":\"white\",\"ticks\":\"\"},\"baxis\":{\"gridcolor\":\"white\",\"linecolor\":\"white\",\"ticks\":\"\"},\"caxis\":{\"gridcolor\":\"white\",\"linecolor\":\"white\",\"ticks\":\"\"}},\"coloraxis\":{\"colorbar\":{\"outlinewidth\":0,\"ticks\":\"\"}},\"colorscale\":{\"sequential\":[[0.0,\"#0d0887\"],[0.1111111111111111,\"#46039f\"],[0.2222222222222222,\"#7201a8\"],[0.3333333333333333,\"#9c179e\"],[0.4444444444444444,\"#bd3786\"],[0.5555555555555556,\"#d8576b\"],[0.6666666666666666,\"#ed7953\"],[0.7777777777777778,\"#fb9f3a\"],[0.8888888888888888,\"#fdca26\"],[1.0,\"#f0f921\"]],\"sequentialminus\":[[0.0,\"#0d0887\"],[0.1111111111111111,\"#46039f\"],[0.2222222222222222,\"#7201a8\"],[0.3333333333333333,\"#9c179e\"],[0.4444444444444444,\"#bd3786\"],[0.5555555555555556,\"#d8576b\"],[0.6666666666666666,\"#ed7953\"],[0.7777777777777778,\"#fb9f3a\"],[0.8888888888888888,\"#fdca26\"],[1.0,\"#f0f921\"]],\"diverging\":[[0,\"#8e0152\"],[0.1,\"#c51b7d\"],[0.2,\"#de77ae\"],[0.3,\"#f1b6da\"],[0.4,\"#fde0ef\"],[0.5,\"#f7f7f7\"],[0.6,\"#e6f5d0\"],[0.7,\"#b8e186\"],[0.8,\"#7fbc41\"],[0.9,\"#4d9221\"],[1,\"#276419\"]]},\"xaxis\":{\"gridcolor\":\"white\",\"linecolor\":\"white\",\"ticks\":\"\",\"title\":{\"standoff\":15},\"zerolinecolor\":\"white\",\"automargin\":true,\"zerolinewidth\":2},\"yaxis\":{\"gridcolor\":\"white\",\"linecolor\":\"white\",\"ticks\":\"\",\"title\":{\"standoff\":15},\"zerolinecolor\":\"white\",\"automargin\":true,\"zerolinewidth\":2},\"scene\":{\"xaxis\":{\"backgroundcolor\":\"#E5ECF6\",\"gridcolor\":\"white\",\"linecolor\":\"white\",\"showbackground\":true,\"ticks\":\"\",\"zerolinecolor\":\"white\",\"gridwidth\":2},\"yaxis\":{\"backgroundcolor\":\"#E5ECF6\",\"gridcolor\":\"white\",\"linecolor\":\"white\",\"showbackground\":true,\"ticks\":\"\",\"zerolinecolor\":\"white\",\"gridwidth\":2},\"zaxis\":{\"backgroundcolor\":\"#E5ECF6\",\"gridcolor\":\"white\",\"linecolor\":\"white\",\"showbackground\":true,\"ticks\":\"\",\"zerolinecolor\":\"white\",\"gridwidth\":2}},\"shapedefaults\":{\"line\":{\"color\":\"#2a3f5f\"}},\"annotationdefaults\":{\"arrowcolor\":\"#2a3f5f\",\"arrowhead\":0,\"arrowwidth\":1},\"geo\":{\"bgcolor\":\"white\",\"landcolor\":\"#E5ECF6\",\"subunitcolor\":\"white\",\"showland\":true,\"showlakes\":true,\"lakecolor\":\"white\"},\"title\":{\"x\":0.05},\"mapbox\":{\"style\":\"light\"}}},\"xaxis\":{\"anchor\":\"y\",\"domain\":[0.0,1.0],\"title\":{\"text\":\"Player\"}},\"yaxis\":{\"anchor\":\"x\",\"domain\":[0.0,1.0],\"title\":{\"text\":\"%W\"}},\"coloraxis\":{\"colorbar\":{\"title\":{\"text\":\"%W\"}},\"colorscale\":[[0.0,\"#0d0887\"],[0.1111111111111111,\"#46039f\"],[0.2222222222222222,\"#7201a8\"],[0.3333333333333333,\"#9c179e\"],[0.4444444444444444,\"#bd3786\"],[0.5555555555555556,\"#d8576b\"],[0.6666666666666666,\"#ed7953\"],[0.7777777777777778,\"#fb9f3a\"],[0.8888888888888888,\"#fdca26\"],[1.0,\"#f0f921\"]]},\"legend\":{\"tracegroupgap\":0},\"title\":{\"text\":\"Captains with heighest win % in IND VS NZ Test\"},\"barmode\":\"relative\",\"height\":800},                        {\"responsive\": true}                    ).then(function(){\n",
       "                            \n",
       "var gd = document.getElementById('e759a17f-4ee7-4257-96ed-5f0ae7d1ca98');\n",
       "var x = new MutationObserver(function (mutations, observer) {{\n",
       "        var display = window.getComputedStyle(gd).display;\n",
       "        if (!display || display === 'none') {{\n",
       "            console.log([gd, 'removed!']);\n",
       "            Plotly.purge(gd);\n",
       "            observer.disconnect();\n",
       "        }}\n",
       "}});\n",
       "\n",
       "// Listen for the removal of the full notebook cells\n",
       "var notebookContainer = gd.closest('#notebook-container');\n",
       "if (notebookContainer) {{\n",
       "    x.observe(notebookContainer, {childList: true});\n",
       "}}\n",
       "\n",
       "// Listen for the clearing of the current output cell\n",
       "var outputEl = gd.closest('.output');\n",
       "if (outputEl) {{\n",
       "    x.observe(outputEl, {childList: true});\n",
       "}}\n",
       "\n",
       "                        })                };                });            </script>        </div>"
      ]
     },
     "metadata": {},
     "output_type": "display_data"
    }
   ],
   "source": [
    "fig=go.Figure()\n",
    "fig=px.bar(succesful_test_captain.sort_values(by='%W',ascending=False),x='Player',y='%W',text='%W',title='Captains with heighest win % in IND VS NZ Test',color='%W',height=800,hover_data=['%W','Span','Matches'],hover_name='Player')\n",
    "fig.update_traces(texttemplate='%{text:.4s}',textposition='outside')\n"
   ]
  },
  {
   "cell_type": "code",
   "execution_count": 233,
   "metadata": {},
   "outputs": [
    {
     "data": {
      "text/html": [
       "<div>\n",
       "<style scoped>\n",
       "    .dataframe tbody tr th:only-of-type {\n",
       "        vertical-align: middle;\n",
       "    }\n",
       "\n",
       "    .dataframe tbody tr th {\n",
       "        vertical-align: top;\n",
       "    }\n",
       "\n",
       "    .dataframe thead th {\n",
       "        text-align: right;\n",
       "    }\n",
       "</style>\n",
       "<table border=\"1\" class=\"dataframe\">\n",
       "  <thead>\n",
       "    <tr style=\"text-align: right;\">\n",
       "      <th></th>\n",
       "      <th>Player</th>\n",
       "      <th>Span</th>\n",
       "      <th>Mat</th>\n",
       "      <th>Won</th>\n",
       "      <th>Lost</th>\n",
       "      <th>Tied</th>\n",
       "      <th>NR</th>\n",
       "      <th>%</th>\n",
       "    </tr>\n",
       "  </thead>\n",
       "  <tbody>\n",
       "    <tr>\n",
       "      <th>0</th>\n",
       "      <td>GM Turner (NZ)</td>\n",
       "      <td>1975-1976</td>\n",
       "      <td>3</td>\n",
       "      <td>3</td>\n",
       "      <td>0</td>\n",
       "      <td>0</td>\n",
       "      <td>0</td>\n",
       "      <td>100.00</td>\n",
       "    </tr>\n",
       "    <tr>\n",
       "      <th>1</th>\n",
       "      <td>S Venkataraghavan (INDIA)</td>\n",
       "      <td>1975-1979</td>\n",
       "      <td>3</td>\n",
       "      <td>0</td>\n",
       "      <td>3</td>\n",
       "      <td>0</td>\n",
       "      <td>0</td>\n",
       "      <td>0.00</td>\n",
       "    </tr>\n",
       "    <tr>\n",
       "      <th>2</th>\n",
       "      <td>BS Bedi (INDIA)</td>\n",
       "      <td>1976-1976</td>\n",
       "      <td>1</td>\n",
       "      <td>0</td>\n",
       "      <td>1</td>\n",
       "      <td>0</td>\n",
       "      <td>0</td>\n",
       "      <td>0.00</td>\n",
       "    </tr>\n",
       "    <tr>\n",
       "      <th>3</th>\n",
       "      <td>MG Burgess (NZ)</td>\n",
       "      <td>1979-1980</td>\n",
       "      <td>2</td>\n",
       "      <td>1</td>\n",
       "      <td>1</td>\n",
       "      <td>0</td>\n",
       "      <td>0</td>\n",
       "      <td>50.00</td>\n",
       "    </tr>\n",
       "    <tr>\n",
       "      <th>4</th>\n",
       "      <td>SM Gavaskar (INDIA)</td>\n",
       "      <td>1980-1985</td>\n",
       "      <td>7</td>\n",
       "      <td>3</td>\n",
       "      <td>4</td>\n",
       "      <td>0</td>\n",
       "      <td>0</td>\n",
       "      <td>42.85</td>\n",
       "    </tr>\n",
       "    <tr>\n",
       "      <th>5</th>\n",
       "      <td>GP Howarth (NZ)</td>\n",
       "      <td>1980-1985</td>\n",
       "      <td>7</td>\n",
       "      <td>5</td>\n",
       "      <td>2</td>\n",
       "      <td>0</td>\n",
       "      <td>0</td>\n",
       "      <td>71.42</td>\n",
       "    </tr>\n",
       "    <tr>\n",
       "      <th>6</th>\n",
       "      <td>GR Viswanath (INDIA)</td>\n",
       "      <td>1981-1981</td>\n",
       "      <td>1</td>\n",
       "      <td>0</td>\n",
       "      <td>1</td>\n",
       "      <td>0</td>\n",
       "      <td>0</td>\n",
       "      <td>0.00</td>\n",
       "    </tr>\n",
       "    <tr>\n",
       "      <th>7</th>\n",
       "      <td>JV Coney (NZ)</td>\n",
       "      <td>1986-1986</td>\n",
       "      <td>5</td>\n",
       "      <td>2</td>\n",
       "      <td>3</td>\n",
       "      <td>0</td>\n",
       "      <td>0</td>\n",
       "      <td>40.00</td>\n",
       "    </tr>\n",
       "    <tr>\n",
       "      <th>8</th>\n",
       "      <td>N Kapil Dev (INDIA)</td>\n",
       "      <td>1986-1987</td>\n",
       "      <td>8</td>\n",
       "      <td>6</td>\n",
       "      <td>2</td>\n",
       "      <td>0</td>\n",
       "      <td>0</td>\n",
       "      <td>75.00</td>\n",
       "    </tr>\n",
       "    <tr>\n",
       "      <th>9</th>\n",
       "      <td>JJ Crowe (NZ)</td>\n",
       "      <td>1986-1987</td>\n",
       "      <td>3</td>\n",
       "      <td>0</td>\n",
       "      <td>3</td>\n",
       "      <td>0</td>\n",
       "      <td>0</td>\n",
       "      <td>0.00</td>\n",
       "    </tr>\n",
       "    <tr>\n",
       "      <th>10</th>\n",
       "      <td>RJ Shastri (INDIA)</td>\n",
       "      <td>1988-1988</td>\n",
       "      <td>2</td>\n",
       "      <td>2</td>\n",
       "      <td>0</td>\n",
       "      <td>0</td>\n",
       "      <td>0</td>\n",
       "      <td>100.00</td>\n",
       "    </tr>\n",
       "    <tr>\n",
       "      <th>11</th>\n",
       "      <td>JG Wright (NZ)</td>\n",
       "      <td>1988-1990</td>\n",
       "      <td>7</td>\n",
       "      <td>1</td>\n",
       "      <td>6</td>\n",
       "      <td>0</td>\n",
       "      <td>0</td>\n",
       "      <td>14.28</td>\n",
       "    </tr>\n",
       "    <tr>\n",
       "      <th>12</th>\n",
       "      <td>DB Vengsarkar (INDIA)</td>\n",
       "      <td>1988-1988</td>\n",
       "      <td>4</td>\n",
       "      <td>4</td>\n",
       "      <td>0</td>\n",
       "      <td>0</td>\n",
       "      <td>0</td>\n",
       "      <td>100.00</td>\n",
       "    </tr>\n",
       "    <tr>\n",
       "      <th>13</th>\n",
       "      <td>M Azharuddin (INDIA)</td>\n",
       "      <td>1990-1999</td>\n",
       "      <td>25</td>\n",
       "      <td>11</td>\n",
       "      <td>11</td>\n",
       "      <td>0</td>\n",
       "      <td>3</td>\n",
       "      <td>50.00</td>\n",
       "    </tr>\n",
       "    <tr>\n",
       "      <th>14</th>\n",
       "      <td>MD Crowe (NZ)</td>\n",
       "      <td>1990-1992</td>\n",
       "      <td>2</td>\n",
       "      <td>1</td>\n",
       "      <td>1</td>\n",
       "      <td>0</td>\n",
       "      <td>0</td>\n",
       "      <td>50.00</td>\n",
       "    </tr>\n",
       "    <tr>\n",
       "      <th>15</th>\n",
       "      <td>KR Rutherford (NZ)</td>\n",
       "      <td>1994-1995</td>\n",
       "      <td>7</td>\n",
       "      <td>3</td>\n",
       "      <td>4</td>\n",
       "      <td>0</td>\n",
       "      <td>0</td>\n",
       "      <td>42.85</td>\n",
       "    </tr>\n",
       "    <tr>\n",
       "      <th>16</th>\n",
       "      <td>LK Germon (NZ)</td>\n",
       "      <td>1995-1995</td>\n",
       "      <td>5</td>\n",
       "      <td>2</td>\n",
       "      <td>3</td>\n",
       "      <td>0</td>\n",
       "      <td>0</td>\n",
       "      <td>40.00</td>\n",
       "    </tr>\n",
       "    <tr>\n",
       "      <th>17</th>\n",
       "      <td>SP Fleming (NZ)</td>\n",
       "      <td>1997-2005</td>\n",
       "      <td>28</td>\n",
       "      <td>15</td>\n",
       "      <td>10</td>\n",
       "      <td>0</td>\n",
       "      <td>3</td>\n",
       "      <td>60.00</td>\n",
       "    </tr>\n",
       "    <tr>\n",
       "      <th>18</th>\n",
       "      <td>SR Tendulkar (INDIA)</td>\n",
       "      <td>1997-1999</td>\n",
       "      <td>6</td>\n",
       "      <td>4</td>\n",
       "      <td>2</td>\n",
       "      <td>0</td>\n",
       "      <td>0</td>\n",
       "      <td>66.66</td>\n",
       "    </tr>\n",
       "    <tr>\n",
       "      <th>19</th>\n",
       "      <td>DJ Nash (NZ)</td>\n",
       "      <td>1999-1999</td>\n",
       "      <td>4</td>\n",
       "      <td>1</td>\n",
       "      <td>2</td>\n",
       "      <td>0</td>\n",
       "      <td>1</td>\n",
       "      <td>33.33</td>\n",
       "    </tr>\n",
       "    <tr>\n",
       "      <th>20</th>\n",
       "      <td>SC Ganguly (INDIA)</td>\n",
       "      <td>2000-2005</td>\n",
       "      <td>16</td>\n",
       "      <td>6</td>\n",
       "      <td>10</td>\n",
       "      <td>0</td>\n",
       "      <td>0</td>\n",
       "      <td>37.50</td>\n",
       "    </tr>\n",
       "    <tr>\n",
       "      <th>21</th>\n",
       "      <td>CD McMillan (NZ)</td>\n",
       "      <td>2001-2001</td>\n",
       "      <td>1</td>\n",
       "      <td>1</td>\n",
       "      <td>0</td>\n",
       "      <td>0</td>\n",
       "      <td>0</td>\n",
       "      <td>100.00</td>\n",
       "    </tr>\n",
       "    <tr>\n",
       "      <th>22</th>\n",
       "      <td>R Dravid (INDIA)</td>\n",
       "      <td>2003-2003</td>\n",
       "      <td>2</td>\n",
       "      <td>0</td>\n",
       "      <td>1</td>\n",
       "      <td>0</td>\n",
       "      <td>1</td>\n",
       "      <td>0.00</td>\n",
       "    </tr>\n",
       "    <tr>\n",
       "      <th>23</th>\n",
       "      <td>CL Cairns (NZ)</td>\n",
       "      <td>2003-2003</td>\n",
       "      <td>1</td>\n",
       "      <td>0</td>\n",
       "      <td>1</td>\n",
       "      <td>0</td>\n",
       "      <td>0</td>\n",
       "      <td>0.00</td>\n",
       "    </tr>\n",
       "    <tr>\n",
       "      <th>24</th>\n",
       "      <td>MS Dhoni (INDIA)</td>\n",
       "      <td>2009-2016</td>\n",
       "      <td>18</td>\n",
       "      <td>8</td>\n",
       "      <td>8</td>\n",
       "      <td>1</td>\n",
       "      <td>1</td>\n",
       "      <td>50.00</td>\n",
       "    </tr>\n",
       "    <tr>\n",
       "      <th>25</th>\n",
       "      <td>DL Vettori (NZ)</td>\n",
       "      <td>2009-2010</td>\n",
       "      <td>9</td>\n",
       "      <td>1</td>\n",
       "      <td>7</td>\n",
       "      <td>0</td>\n",
       "      <td>1</td>\n",
       "      <td>12.50</td>\n",
       "    </tr>\n",
       "    <tr>\n",
       "      <th>26</th>\n",
       "      <td>BB McCullum (NZ)</td>\n",
       "      <td>2009-2014</td>\n",
       "      <td>6</td>\n",
       "      <td>4</td>\n",
       "      <td>1</td>\n",
       "      <td>1</td>\n",
       "      <td>0</td>\n",
       "      <td>75.00</td>\n",
       "    </tr>\n",
       "    <tr>\n",
       "      <th>27</th>\n",
       "      <td>LRPL Taylor (NZ)</td>\n",
       "      <td>2010-2010</td>\n",
       "      <td>3</td>\n",
       "      <td>1</td>\n",
       "      <td>2</td>\n",
       "      <td>0</td>\n",
       "      <td>0</td>\n",
       "      <td>33.33</td>\n",
       "    </tr>\n",
       "    <tr>\n",
       "      <th>28</th>\n",
       "      <td>G Gambhir (INDIA)</td>\n",
       "      <td>2010-2010</td>\n",
       "      <td>5</td>\n",
       "      <td>5</td>\n",
       "      <td>0</td>\n",
       "      <td>0</td>\n",
       "      <td>0</td>\n",
       "      <td>100.00</td>\n",
       "    </tr>\n",
       "    <tr>\n",
       "      <th>29</th>\n",
       "      <td>KS Williamson (NZ)</td>\n",
       "      <td>2016-2020</td>\n",
       "      <td>15</td>\n",
       "      <td>6</td>\n",
       "      <td>9</td>\n",
       "      <td>0</td>\n",
       "      <td>0</td>\n",
       "      <td>40.00</td>\n",
       "    </tr>\n",
       "    <tr>\n",
       "      <th>30</th>\n",
       "      <td>V Kohli (INDIA)</td>\n",
       "      <td>2017-2020</td>\n",
       "      <td>10</td>\n",
       "      <td>5</td>\n",
       "      <td>5</td>\n",
       "      <td>0</td>\n",
       "      <td>0</td>\n",
       "      <td>50.00</td>\n",
       "    </tr>\n",
       "    <tr>\n",
       "      <th>31</th>\n",
       "      <td>RG Sharma (INDIA)</td>\n",
       "      <td>2019-2019</td>\n",
       "      <td>2</td>\n",
       "      <td>1</td>\n",
       "      <td>1</td>\n",
       "      <td>0</td>\n",
       "      <td>0</td>\n",
       "      <td>50.00</td>\n",
       "    </tr>\n",
       "    <tr>\n",
       "      <th>32</th>\n",
       "      <td>TWM Latham (NZ)</td>\n",
       "      <td>2020-2020</td>\n",
       "      <td>2</td>\n",
       "      <td>2</td>\n",
       "      <td>0</td>\n",
       "      <td>0</td>\n",
       "      <td>0</td>\n",
       "      <td>100.00</td>\n",
       "    </tr>\n",
       "  </tbody>\n",
       "</table>\n",
       "</div>"
      ],
      "text/plain": [
       "                       Player       Span  Mat  Won  Lost  Tied  NR       %\n",
       "0              GM Turner (NZ)  1975-1976    3    3     0     0   0  100.00\n",
       "1   S Venkataraghavan (INDIA)  1975-1979    3    0     3     0   0    0.00\n",
       "2             BS Bedi (INDIA)  1976-1976    1    0     1     0   0    0.00\n",
       "3             MG Burgess (NZ)  1979-1980    2    1     1     0   0   50.00\n",
       "4         SM Gavaskar (INDIA)  1980-1985    7    3     4     0   0   42.85\n",
       "5             GP Howarth (NZ)  1980-1985    7    5     2     0   0   71.42\n",
       "6        GR Viswanath (INDIA)  1981-1981    1    0     1     0   0    0.00\n",
       "7               JV Coney (NZ)  1986-1986    5    2     3     0   0   40.00\n",
       "8         N Kapil Dev (INDIA)  1986-1987    8    6     2     0   0   75.00\n",
       "9               JJ Crowe (NZ)  1986-1987    3    0     3     0   0    0.00\n",
       "10         RJ Shastri (INDIA)  1988-1988    2    2     0     0   0  100.00\n",
       "11             JG Wright (NZ)  1988-1990    7    1     6     0   0   14.28\n",
       "12      DB Vengsarkar (INDIA)  1988-1988    4    4     0     0   0  100.00\n",
       "13       M Azharuddin (INDIA)  1990-1999   25   11    11     0   3   50.00\n",
       "14              MD Crowe (NZ)  1990-1992    2    1     1     0   0   50.00\n",
       "15         KR Rutherford (NZ)  1994-1995    7    3     4     0   0   42.85\n",
       "16             LK Germon (NZ)  1995-1995    5    2     3     0   0   40.00\n",
       "17            SP Fleming (NZ)  1997-2005   28   15    10     0   3   60.00\n",
       "18       SR Tendulkar (INDIA)  1997-1999    6    4     2     0   0   66.66\n",
       "19               DJ Nash (NZ)  1999-1999    4    1     2     0   1   33.33\n",
       "20         SC Ganguly (INDIA)  2000-2005   16    6    10     0   0   37.50\n",
       "21           CD McMillan (NZ)  2001-2001    1    1     0     0   0  100.00\n",
       "22           R Dravid (INDIA)  2003-2003    2    0     1     0   1    0.00\n",
       "23             CL Cairns (NZ)  2003-2003    1    0     1     0   0    0.00\n",
       "24           MS Dhoni (INDIA)  2009-2016   18    8     8     1   1   50.00\n",
       "25            DL Vettori (NZ)  2009-2010    9    1     7     0   1   12.50\n",
       "26           BB McCullum (NZ)  2009-2014    6    4     1     1   0   75.00\n",
       "27           LRPL Taylor (NZ)  2010-2010    3    1     2     0   0   33.33\n",
       "28          G Gambhir (INDIA)  2010-2010    5    5     0     0   0  100.00\n",
       "29         KS Williamson (NZ)  2016-2020   15    6     9     0   0   40.00\n",
       "30            V Kohli (INDIA)  2017-2020   10    5     5     0   0   50.00\n",
       "31          RG Sharma (INDIA)  2019-2019    2    1     1     0   0   50.00\n",
       "32            TWM Latham (NZ)  2020-2020    2    2     0     0   0  100.00"
      ]
     },
     "execution_count": 233,
     "metadata": {},
     "output_type": "execute_result"
    }
   ],
   "source": [
    "df2=pd.read_html('https://stats.espncricinfo.com/ci/engine/records/individual/list_captains.html?class=2;id=5;id=6;type=headtohead')\n",
    "df2[0]"
   ]
  },
  {
   "cell_type": "code",
   "execution_count": 234,
   "metadata": {},
   "outputs": [
    {
     "data": {
      "text/html": [
       "<div>\n",
       "<style scoped>\n",
       "    .dataframe tbody tr th:only-of-type {\n",
       "        vertical-align: middle;\n",
       "    }\n",
       "\n",
       "    .dataframe tbody tr th {\n",
       "        vertical-align: top;\n",
       "    }\n",
       "\n",
       "    .dataframe thead th {\n",
       "        text-align: right;\n",
       "    }\n",
       "</style>\n",
       "<table border=\"1\" class=\"dataframe\">\n",
       "  <thead>\n",
       "    <tr style=\"text-align: right;\">\n",
       "      <th></th>\n",
       "      <th>Unnamed: 0</th>\n",
       "      <th>Player</th>\n",
       "      <th>Span</th>\n",
       "      <th>Matches</th>\n",
       "      <th>Won</th>\n",
       "      <th>Lost</th>\n",
       "      <th>Tied</th>\n",
       "      <th>NR</th>\n",
       "      <th>%W</th>\n",
       "    </tr>\n",
       "  </thead>\n",
       "  <tbody>\n",
       "    <tr>\n",
       "      <th>0</th>\n",
       "      <td>0</td>\n",
       "      <td>GM Turner (NZ)</td>\n",
       "      <td>1975-1976</td>\n",
       "      <td>3</td>\n",
       "      <td>3</td>\n",
       "      <td>0</td>\n",
       "      <td>0</td>\n",
       "      <td>0</td>\n",
       "      <td>100.00</td>\n",
       "    </tr>\n",
       "    <tr>\n",
       "      <th>1</th>\n",
       "      <td>1</td>\n",
       "      <td>S Venkataraghavan (INDIA)</td>\n",
       "      <td>1975-1979</td>\n",
       "      <td>3</td>\n",
       "      <td>0</td>\n",
       "      <td>3</td>\n",
       "      <td>0</td>\n",
       "      <td>0</td>\n",
       "      <td>0.00</td>\n",
       "    </tr>\n",
       "    <tr>\n",
       "      <th>2</th>\n",
       "      <td>2</td>\n",
       "      <td>BS Bedi (INDIA)</td>\n",
       "      <td>1976-1976</td>\n",
       "      <td>1</td>\n",
       "      <td>0</td>\n",
       "      <td>1</td>\n",
       "      <td>0</td>\n",
       "      <td>0</td>\n",
       "      <td>0.00</td>\n",
       "    </tr>\n",
       "    <tr>\n",
       "      <th>3</th>\n",
       "      <td>3</td>\n",
       "      <td>MG Burgess (NZ)</td>\n",
       "      <td>1979-1980</td>\n",
       "      <td>2</td>\n",
       "      <td>1</td>\n",
       "      <td>1</td>\n",
       "      <td>0</td>\n",
       "      <td>0</td>\n",
       "      <td>50.00</td>\n",
       "    </tr>\n",
       "    <tr>\n",
       "      <th>4</th>\n",
       "      <td>4</td>\n",
       "      <td>SM Gavaskar (INDIA)</td>\n",
       "      <td>1980-1985</td>\n",
       "      <td>7</td>\n",
       "      <td>3</td>\n",
       "      <td>4</td>\n",
       "      <td>0</td>\n",
       "      <td>0</td>\n",
       "      <td>42.85</td>\n",
       "    </tr>\n",
       "    <tr>\n",
       "      <th>5</th>\n",
       "      <td>5</td>\n",
       "      <td>GP Howarth (NZ)</td>\n",
       "      <td>1980-1985</td>\n",
       "      <td>7</td>\n",
       "      <td>5</td>\n",
       "      <td>2</td>\n",
       "      <td>0</td>\n",
       "      <td>0</td>\n",
       "      <td>71.42</td>\n",
       "    </tr>\n",
       "    <tr>\n",
       "      <th>6</th>\n",
       "      <td>6</td>\n",
       "      <td>GR Viswanath (INDIA)</td>\n",
       "      <td>1981-1981</td>\n",
       "      <td>1</td>\n",
       "      <td>0</td>\n",
       "      <td>1</td>\n",
       "      <td>0</td>\n",
       "      <td>0</td>\n",
       "      <td>0.00</td>\n",
       "    </tr>\n",
       "    <tr>\n",
       "      <th>7</th>\n",
       "      <td>7</td>\n",
       "      <td>JV Coney (NZ)</td>\n",
       "      <td>1986-1986</td>\n",
       "      <td>5</td>\n",
       "      <td>2</td>\n",
       "      <td>3</td>\n",
       "      <td>0</td>\n",
       "      <td>0</td>\n",
       "      <td>40.00</td>\n",
       "    </tr>\n",
       "    <tr>\n",
       "      <th>8</th>\n",
       "      <td>8</td>\n",
       "      <td>N Kapil Dev (INDIA)</td>\n",
       "      <td>1986-1987</td>\n",
       "      <td>8</td>\n",
       "      <td>6</td>\n",
       "      <td>2</td>\n",
       "      <td>0</td>\n",
       "      <td>0</td>\n",
       "      <td>75.00</td>\n",
       "    </tr>\n",
       "    <tr>\n",
       "      <th>9</th>\n",
       "      <td>9</td>\n",
       "      <td>JJ Crowe (NZ)</td>\n",
       "      <td>1986-1987</td>\n",
       "      <td>3</td>\n",
       "      <td>0</td>\n",
       "      <td>3</td>\n",
       "      <td>0</td>\n",
       "      <td>0</td>\n",
       "      <td>0.00</td>\n",
       "    </tr>\n",
       "    <tr>\n",
       "      <th>10</th>\n",
       "      <td>10</td>\n",
       "      <td>RJ Shastri (INDIA)</td>\n",
       "      <td>1988-1988</td>\n",
       "      <td>2</td>\n",
       "      <td>2</td>\n",
       "      <td>0</td>\n",
       "      <td>0</td>\n",
       "      <td>0</td>\n",
       "      <td>100.00</td>\n",
       "    </tr>\n",
       "    <tr>\n",
       "      <th>11</th>\n",
       "      <td>11</td>\n",
       "      <td>JG Wright (NZ)</td>\n",
       "      <td>1988-1990</td>\n",
       "      <td>7</td>\n",
       "      <td>1</td>\n",
       "      <td>6</td>\n",
       "      <td>0</td>\n",
       "      <td>0</td>\n",
       "      <td>14.28</td>\n",
       "    </tr>\n",
       "    <tr>\n",
       "      <th>12</th>\n",
       "      <td>12</td>\n",
       "      <td>DB Vengsarkar (INDIA)</td>\n",
       "      <td>1988-1988</td>\n",
       "      <td>4</td>\n",
       "      <td>4</td>\n",
       "      <td>0</td>\n",
       "      <td>0</td>\n",
       "      <td>0</td>\n",
       "      <td>100.00</td>\n",
       "    </tr>\n",
       "    <tr>\n",
       "      <th>13</th>\n",
       "      <td>13</td>\n",
       "      <td>M Azharuddin (INDIA)</td>\n",
       "      <td>1990-1999</td>\n",
       "      <td>25</td>\n",
       "      <td>11</td>\n",
       "      <td>11</td>\n",
       "      <td>0</td>\n",
       "      <td>3</td>\n",
       "      <td>50.00</td>\n",
       "    </tr>\n",
       "    <tr>\n",
       "      <th>14</th>\n",
       "      <td>14</td>\n",
       "      <td>MD Crowe (NZ)</td>\n",
       "      <td>1990-1992</td>\n",
       "      <td>2</td>\n",
       "      <td>1</td>\n",
       "      <td>1</td>\n",
       "      <td>0</td>\n",
       "      <td>0</td>\n",
       "      <td>50.00</td>\n",
       "    </tr>\n",
       "    <tr>\n",
       "      <th>15</th>\n",
       "      <td>15</td>\n",
       "      <td>KR Rutherford (NZ)</td>\n",
       "      <td>1994-1995</td>\n",
       "      <td>7</td>\n",
       "      <td>3</td>\n",
       "      <td>4</td>\n",
       "      <td>0</td>\n",
       "      <td>0</td>\n",
       "      <td>42.85</td>\n",
       "    </tr>\n",
       "    <tr>\n",
       "      <th>16</th>\n",
       "      <td>16</td>\n",
       "      <td>LK Germon (NZ)</td>\n",
       "      <td>1995-1995</td>\n",
       "      <td>5</td>\n",
       "      <td>2</td>\n",
       "      <td>3</td>\n",
       "      <td>0</td>\n",
       "      <td>0</td>\n",
       "      <td>40.00</td>\n",
       "    </tr>\n",
       "    <tr>\n",
       "      <th>17</th>\n",
       "      <td>17</td>\n",
       "      <td>SP Fleming (NZ)</td>\n",
       "      <td>1997-2005</td>\n",
       "      <td>28</td>\n",
       "      <td>15</td>\n",
       "      <td>10</td>\n",
       "      <td>0</td>\n",
       "      <td>3</td>\n",
       "      <td>60.00</td>\n",
       "    </tr>\n",
       "    <tr>\n",
       "      <th>18</th>\n",
       "      <td>18</td>\n",
       "      <td>SR Tendulkar (INDIA)</td>\n",
       "      <td>1997-1999</td>\n",
       "      <td>6</td>\n",
       "      <td>4</td>\n",
       "      <td>2</td>\n",
       "      <td>0</td>\n",
       "      <td>0</td>\n",
       "      <td>66.66</td>\n",
       "    </tr>\n",
       "    <tr>\n",
       "      <th>19</th>\n",
       "      <td>19</td>\n",
       "      <td>DJ Nash (NZ)</td>\n",
       "      <td>1999-1999</td>\n",
       "      <td>4</td>\n",
       "      <td>1</td>\n",
       "      <td>2</td>\n",
       "      <td>0</td>\n",
       "      <td>1</td>\n",
       "      <td>33.33</td>\n",
       "    </tr>\n",
       "    <tr>\n",
       "      <th>20</th>\n",
       "      <td>20</td>\n",
       "      <td>SC Ganguly (INDIA)</td>\n",
       "      <td>2000-2005</td>\n",
       "      <td>16</td>\n",
       "      <td>6</td>\n",
       "      <td>10</td>\n",
       "      <td>0</td>\n",
       "      <td>0</td>\n",
       "      <td>37.50</td>\n",
       "    </tr>\n",
       "    <tr>\n",
       "      <th>21</th>\n",
       "      <td>21</td>\n",
       "      <td>CD McMillan (NZ)</td>\n",
       "      <td>2001-2001</td>\n",
       "      <td>1</td>\n",
       "      <td>1</td>\n",
       "      <td>0</td>\n",
       "      <td>0</td>\n",
       "      <td>0</td>\n",
       "      <td>100.00</td>\n",
       "    </tr>\n",
       "    <tr>\n",
       "      <th>22</th>\n",
       "      <td>22</td>\n",
       "      <td>R Dravid (INDIA)</td>\n",
       "      <td>2003-2003</td>\n",
       "      <td>2</td>\n",
       "      <td>0</td>\n",
       "      <td>1</td>\n",
       "      <td>0</td>\n",
       "      <td>1</td>\n",
       "      <td>0.00</td>\n",
       "    </tr>\n",
       "    <tr>\n",
       "      <th>23</th>\n",
       "      <td>23</td>\n",
       "      <td>CL Cairns (NZ)</td>\n",
       "      <td>2003-2003</td>\n",
       "      <td>1</td>\n",
       "      <td>0</td>\n",
       "      <td>1</td>\n",
       "      <td>0</td>\n",
       "      <td>0</td>\n",
       "      <td>0.00</td>\n",
       "    </tr>\n",
       "    <tr>\n",
       "      <th>24</th>\n",
       "      <td>24</td>\n",
       "      <td>MS Dhoni (INDIA)</td>\n",
       "      <td>2009-2016</td>\n",
       "      <td>18</td>\n",
       "      <td>8</td>\n",
       "      <td>8</td>\n",
       "      <td>1</td>\n",
       "      <td>1</td>\n",
       "      <td>50.00</td>\n",
       "    </tr>\n",
       "    <tr>\n",
       "      <th>25</th>\n",
       "      <td>25</td>\n",
       "      <td>DL Vettori (NZ)</td>\n",
       "      <td>2009-2010</td>\n",
       "      <td>9</td>\n",
       "      <td>1</td>\n",
       "      <td>7</td>\n",
       "      <td>0</td>\n",
       "      <td>1</td>\n",
       "      <td>12.50</td>\n",
       "    </tr>\n",
       "    <tr>\n",
       "      <th>26</th>\n",
       "      <td>26</td>\n",
       "      <td>BB McCullum (NZ)</td>\n",
       "      <td>2009-2014</td>\n",
       "      <td>6</td>\n",
       "      <td>4</td>\n",
       "      <td>1</td>\n",
       "      <td>1</td>\n",
       "      <td>0</td>\n",
       "      <td>75.00</td>\n",
       "    </tr>\n",
       "    <tr>\n",
       "      <th>27</th>\n",
       "      <td>27</td>\n",
       "      <td>LRPL Taylor (NZ)</td>\n",
       "      <td>2010-2010</td>\n",
       "      <td>3</td>\n",
       "      <td>1</td>\n",
       "      <td>2</td>\n",
       "      <td>0</td>\n",
       "      <td>0</td>\n",
       "      <td>33.33</td>\n",
       "    </tr>\n",
       "    <tr>\n",
       "      <th>28</th>\n",
       "      <td>28</td>\n",
       "      <td>G Gambhir (INDIA)</td>\n",
       "      <td>2010-2010</td>\n",
       "      <td>5</td>\n",
       "      <td>5</td>\n",
       "      <td>0</td>\n",
       "      <td>0</td>\n",
       "      <td>0</td>\n",
       "      <td>100.00</td>\n",
       "    </tr>\n",
       "    <tr>\n",
       "      <th>29</th>\n",
       "      <td>29</td>\n",
       "      <td>KS Williamson (NZ)</td>\n",
       "      <td>2016-2020</td>\n",
       "      <td>15</td>\n",
       "      <td>6</td>\n",
       "      <td>9</td>\n",
       "      <td>0</td>\n",
       "      <td>0</td>\n",
       "      <td>40.00</td>\n",
       "    </tr>\n",
       "    <tr>\n",
       "      <th>30</th>\n",
       "      <td>30</td>\n",
       "      <td>V Kohli (INDIA)</td>\n",
       "      <td>2017-2020</td>\n",
       "      <td>10</td>\n",
       "      <td>5</td>\n",
       "      <td>5</td>\n",
       "      <td>0</td>\n",
       "      <td>0</td>\n",
       "      <td>50.00</td>\n",
       "    </tr>\n",
       "    <tr>\n",
       "      <th>31</th>\n",
       "      <td>31</td>\n",
       "      <td>RG Sharma (INDIA)</td>\n",
       "      <td>2019-2019</td>\n",
       "      <td>2</td>\n",
       "      <td>1</td>\n",
       "      <td>1</td>\n",
       "      <td>0</td>\n",
       "      <td>0</td>\n",
       "      <td>50.00</td>\n",
       "    </tr>\n",
       "    <tr>\n",
       "      <th>32</th>\n",
       "      <td>32</td>\n",
       "      <td>TWM Latham (NZ)</td>\n",
       "      <td>2020-2020</td>\n",
       "      <td>2</td>\n",
       "      <td>2</td>\n",
       "      <td>0</td>\n",
       "      <td>0</td>\n",
       "      <td>0</td>\n",
       "      <td>100.00</td>\n",
       "    </tr>\n",
       "  </tbody>\n",
       "</table>\n",
       "</div>"
      ],
      "text/plain": [
       "    Unnamed: 0                     Player       Span  Matches  Won  Lost  \\\n",
       "0            0             GM Turner (NZ)  1975-1976        3    3     0   \n",
       "1            1  S Venkataraghavan (INDIA)  1975-1979        3    0     3   \n",
       "2            2            BS Bedi (INDIA)  1976-1976        1    0     1   \n",
       "3            3            MG Burgess (NZ)  1979-1980        2    1     1   \n",
       "4            4        SM Gavaskar (INDIA)  1980-1985        7    3     4   \n",
       "5            5            GP Howarth (NZ)  1980-1985        7    5     2   \n",
       "6            6       GR Viswanath (INDIA)  1981-1981        1    0     1   \n",
       "7            7              JV Coney (NZ)  1986-1986        5    2     3   \n",
       "8            8        N Kapil Dev (INDIA)  1986-1987        8    6     2   \n",
       "9            9              JJ Crowe (NZ)  1986-1987        3    0     3   \n",
       "10          10         RJ Shastri (INDIA)  1988-1988        2    2     0   \n",
       "11          11             JG Wright (NZ)  1988-1990        7    1     6   \n",
       "12          12      DB Vengsarkar (INDIA)  1988-1988        4    4     0   \n",
       "13          13       M Azharuddin (INDIA)  1990-1999       25   11    11   \n",
       "14          14              MD Crowe (NZ)  1990-1992        2    1     1   \n",
       "15          15         KR Rutherford (NZ)  1994-1995        7    3     4   \n",
       "16          16             LK Germon (NZ)  1995-1995        5    2     3   \n",
       "17          17            SP Fleming (NZ)  1997-2005       28   15    10   \n",
       "18          18       SR Tendulkar (INDIA)  1997-1999        6    4     2   \n",
       "19          19               DJ Nash (NZ)  1999-1999        4    1     2   \n",
       "20          20         SC Ganguly (INDIA)  2000-2005       16    6    10   \n",
       "21          21           CD McMillan (NZ)  2001-2001        1    1     0   \n",
       "22          22           R Dravid (INDIA)  2003-2003        2    0     1   \n",
       "23          23             CL Cairns (NZ)  2003-2003        1    0     1   \n",
       "24          24           MS Dhoni (INDIA)  2009-2016       18    8     8   \n",
       "25          25            DL Vettori (NZ)  2009-2010        9    1     7   \n",
       "26          26           BB McCullum (NZ)  2009-2014        6    4     1   \n",
       "27          27           LRPL Taylor (NZ)  2010-2010        3    1     2   \n",
       "28          28          G Gambhir (INDIA)  2010-2010        5    5     0   \n",
       "29          29         KS Williamson (NZ)  2016-2020       15    6     9   \n",
       "30          30            V Kohli (INDIA)  2017-2020       10    5     5   \n",
       "31          31          RG Sharma (INDIA)  2019-2019        2    1     1   \n",
       "32          32            TWM Latham (NZ)  2020-2020        2    2     0   \n",
       "\n",
       "    Tied  NR      %W  \n",
       "0      0   0  100.00  \n",
       "1      0   0    0.00  \n",
       "2      0   0    0.00  \n",
       "3      0   0   50.00  \n",
       "4      0   0   42.85  \n",
       "5      0   0   71.42  \n",
       "6      0   0    0.00  \n",
       "7      0   0   40.00  \n",
       "8      0   0   75.00  \n",
       "9      0   0    0.00  \n",
       "10     0   0  100.00  \n",
       "11     0   0   14.28  \n",
       "12     0   0  100.00  \n",
       "13     0   3   50.00  \n",
       "14     0   0   50.00  \n",
       "15     0   0   42.85  \n",
       "16     0   0   40.00  \n",
       "17     0   3   60.00  \n",
       "18     0   0   66.66  \n",
       "19     0   1   33.33  \n",
       "20     0   0   37.50  \n",
       "21     0   0  100.00  \n",
       "22     0   1    0.00  \n",
       "23     0   0    0.00  \n",
       "24     1   1   50.00  \n",
       "25     0   1   12.50  \n",
       "26     1   0   75.00  \n",
       "27     0   0   33.33  \n",
       "28     0   0  100.00  \n",
       "29     0   0   40.00  \n",
       "30     0   0   50.00  \n",
       "31     0   0   50.00  \n",
       "32     0   0  100.00  "
      ]
     },
     "execution_count": 234,
     "metadata": {},
     "output_type": "execute_result"
    }
   ],
   "source": [
    "df2[0].to_csv('indvsnz_odi_captain.csv')\n",
    "odi_captain_df=pd.read_csv('indvsnz_odi_captain.csv')\n",
    "odi_captain_df.rename(columns={'Mat':'Matches'},inplace=True)\n",
    "odi_captain_df.rename(columns={'%':'%W'},inplace=True)\n",
    "odi_captain_df"
   ]
  },
  {
   "cell_type": "code",
   "execution_count": 235,
   "metadata": {},
   "outputs": [
    {
     "data": {
      "text/html": [
       "<div>\n",
       "<style scoped>\n",
       "    .dataframe tbody tr th:only-of-type {\n",
       "        vertical-align: middle;\n",
       "    }\n",
       "\n",
       "    .dataframe tbody tr th {\n",
       "        vertical-align: top;\n",
       "    }\n",
       "\n",
       "    .dataframe thead th {\n",
       "        text-align: right;\n",
       "    }\n",
       "</style>\n",
       "<table border=\"1\" class=\"dataframe\">\n",
       "  <thead>\n",
       "    <tr style=\"text-align: right;\">\n",
       "      <th></th>\n",
       "      <th>Unnamed: 0</th>\n",
       "      <th>Player</th>\n",
       "      <th>Span</th>\n",
       "      <th>Matches</th>\n",
       "      <th>Won</th>\n",
       "      <th>Lost</th>\n",
       "      <th>Tied</th>\n",
       "      <th>NR</th>\n",
       "      <th>%W</th>\n",
       "    </tr>\n",
       "  </thead>\n",
       "  <tbody>\n",
       "    <tr>\n",
       "      <th>12</th>\n",
       "      <td>12</td>\n",
       "      <td>DB Vengsarkar (INDIA)</td>\n",
       "      <td>1988-1988</td>\n",
       "      <td>4</td>\n",
       "      <td>4</td>\n",
       "      <td>0</td>\n",
       "      <td>0</td>\n",
       "      <td>0</td>\n",
       "      <td>100.00</td>\n",
       "    </tr>\n",
       "    <tr>\n",
       "      <th>28</th>\n",
       "      <td>28</td>\n",
       "      <td>G Gambhir (INDIA)</td>\n",
       "      <td>2010-2010</td>\n",
       "      <td>5</td>\n",
       "      <td>5</td>\n",
       "      <td>0</td>\n",
       "      <td>0</td>\n",
       "      <td>0</td>\n",
       "      <td>100.00</td>\n",
       "    </tr>\n",
       "    <tr>\n",
       "      <th>8</th>\n",
       "      <td>8</td>\n",
       "      <td>N Kapil Dev (INDIA)</td>\n",
       "      <td>1986-1987</td>\n",
       "      <td>8</td>\n",
       "      <td>6</td>\n",
       "      <td>2</td>\n",
       "      <td>0</td>\n",
       "      <td>0</td>\n",
       "      <td>75.00</td>\n",
       "    </tr>\n",
       "    <tr>\n",
       "      <th>26</th>\n",
       "      <td>26</td>\n",
       "      <td>BB McCullum (NZ)</td>\n",
       "      <td>2009-2014</td>\n",
       "      <td>6</td>\n",
       "      <td>4</td>\n",
       "      <td>1</td>\n",
       "      <td>1</td>\n",
       "      <td>0</td>\n",
       "      <td>75.00</td>\n",
       "    </tr>\n",
       "    <tr>\n",
       "      <th>5</th>\n",
       "      <td>5</td>\n",
       "      <td>GP Howarth (NZ)</td>\n",
       "      <td>1980-1985</td>\n",
       "      <td>7</td>\n",
       "      <td>5</td>\n",
       "      <td>2</td>\n",
       "      <td>0</td>\n",
       "      <td>0</td>\n",
       "      <td>71.42</td>\n",
       "    </tr>\n",
       "    <tr>\n",
       "      <th>18</th>\n",
       "      <td>18</td>\n",
       "      <td>SR Tendulkar (INDIA)</td>\n",
       "      <td>1997-1999</td>\n",
       "      <td>6</td>\n",
       "      <td>4</td>\n",
       "      <td>2</td>\n",
       "      <td>0</td>\n",
       "      <td>0</td>\n",
       "      <td>66.66</td>\n",
       "    </tr>\n",
       "    <tr>\n",
       "      <th>17</th>\n",
       "      <td>17</td>\n",
       "      <td>SP Fleming (NZ)</td>\n",
       "      <td>1997-2005</td>\n",
       "      <td>28</td>\n",
       "      <td>15</td>\n",
       "      <td>10</td>\n",
       "      <td>0</td>\n",
       "      <td>3</td>\n",
       "      <td>60.00</td>\n",
       "    </tr>\n",
       "    <tr>\n",
       "      <th>13</th>\n",
       "      <td>13</td>\n",
       "      <td>M Azharuddin (INDIA)</td>\n",
       "      <td>1990-1999</td>\n",
       "      <td>25</td>\n",
       "      <td>11</td>\n",
       "      <td>11</td>\n",
       "      <td>0</td>\n",
       "      <td>3</td>\n",
       "      <td>50.00</td>\n",
       "    </tr>\n",
       "    <tr>\n",
       "      <th>24</th>\n",
       "      <td>24</td>\n",
       "      <td>MS Dhoni (INDIA)</td>\n",
       "      <td>2009-2016</td>\n",
       "      <td>18</td>\n",
       "      <td>8</td>\n",
       "      <td>8</td>\n",
       "      <td>1</td>\n",
       "      <td>1</td>\n",
       "      <td>50.00</td>\n",
       "    </tr>\n",
       "    <tr>\n",
       "      <th>30</th>\n",
       "      <td>30</td>\n",
       "      <td>V Kohli (INDIA)</td>\n",
       "      <td>2017-2020</td>\n",
       "      <td>10</td>\n",
       "      <td>5</td>\n",
       "      <td>5</td>\n",
       "      <td>0</td>\n",
       "      <td>0</td>\n",
       "      <td>50.00</td>\n",
       "    </tr>\n",
       "    <tr>\n",
       "      <th>29</th>\n",
       "      <td>29</td>\n",
       "      <td>KS Williamson (NZ)</td>\n",
       "      <td>2016-2020</td>\n",
       "      <td>15</td>\n",
       "      <td>6</td>\n",
       "      <td>9</td>\n",
       "      <td>0</td>\n",
       "      <td>0</td>\n",
       "      <td>40.00</td>\n",
       "    </tr>\n",
       "    <tr>\n",
       "      <th>20</th>\n",
       "      <td>20</td>\n",
       "      <td>SC Ganguly (INDIA)</td>\n",
       "      <td>2000-2005</td>\n",
       "      <td>16</td>\n",
       "      <td>6</td>\n",
       "      <td>10</td>\n",
       "      <td>0</td>\n",
       "      <td>0</td>\n",
       "      <td>37.50</td>\n",
       "    </tr>\n",
       "  </tbody>\n",
       "</table>\n",
       "</div>"
      ],
      "text/plain": [
       "    Unnamed: 0                 Player       Span  Matches  Won  Lost  Tied  \\\n",
       "12          12  DB Vengsarkar (INDIA)  1988-1988        4    4     0     0   \n",
       "28          28      G Gambhir (INDIA)  2010-2010        5    5     0     0   \n",
       "8            8    N Kapil Dev (INDIA)  1986-1987        8    6     2     0   \n",
       "26          26       BB McCullum (NZ)  2009-2014        6    4     1     1   \n",
       "5            5        GP Howarth (NZ)  1980-1985        7    5     2     0   \n",
       "18          18   SR Tendulkar (INDIA)  1997-1999        6    4     2     0   \n",
       "17          17        SP Fleming (NZ)  1997-2005       28   15    10     0   \n",
       "13          13   M Azharuddin (INDIA)  1990-1999       25   11    11     0   \n",
       "24          24       MS Dhoni (INDIA)  2009-2016       18    8     8     1   \n",
       "30          30        V Kohli (INDIA)  2017-2020       10    5     5     0   \n",
       "29          29     KS Williamson (NZ)  2016-2020       15    6     9     0   \n",
       "20          20     SC Ganguly (INDIA)  2000-2005       16    6    10     0   \n",
       "\n",
       "    NR      %W  \n",
       "12   0  100.00  \n",
       "28   0  100.00  \n",
       "8    0   75.00  \n",
       "26   0   75.00  \n",
       "5    0   71.42  \n",
       "18   0   66.66  \n",
       "17   3   60.00  \n",
       "13   3   50.00  \n",
       "24   1   50.00  \n",
       "30   0   50.00  \n",
       "29   0   40.00  \n",
       "20   0   37.50  "
      ]
     },
     "execution_count": 235,
     "metadata": {},
     "output_type": "execute_result"
    }
   ],
   "source": [
    "succesful_odi_captain=odi_captain_df.loc[odi_captain_df.Won>3]\n",
    "succesful_odi_captain\n",
    "succesful_odi_captain.sort_values(by='%W',ascending=False)"
   ]
  },
  {
   "cell_type": "code",
   "execution_count": 236,
   "metadata": {},
   "outputs": [
    {
     "data": {
      "application/vnd.plotly.v1+json": {
       "config": {
        "plotlyServerURL": "https://plot.ly"
       },
       "data": [
        {
         "alignmentgroup": "True",
         "customdata": [
          [
           "1988-1988",
           4
          ],
          [
           "2010-2010",
           5
          ],
          [
           "1986-1987",
           8
          ],
          [
           "2009-2014",
           6
          ],
          [
           "1980-1985",
           7
          ],
          [
           "1997-1999",
           6
          ],
          [
           "1997-2005",
           28
          ],
          [
           "1990-1999",
           25
          ],
          [
           "2009-2016",
           18
          ],
          [
           "2017-2020",
           10
          ],
          [
           "2016-2020",
           15
          ],
          [
           "2000-2005",
           16
          ]
         ],
         "hovertemplate": "<b>%{hovertext}</b><br><br>Player=%{x}<br>%W=%{marker.color}<br>Span=%{customdata[0]}<br>Matches=%{customdata[1]}<extra></extra>",
         "hovertext": [
          "DB Vengsarkar (INDIA)",
          "G Gambhir (INDIA)",
          "N Kapil Dev (INDIA)",
          "BB McCullum (NZ)",
          "GP Howarth (NZ)",
          "SR Tendulkar (INDIA)",
          "SP Fleming (NZ)",
          "M Azharuddin (INDIA)",
          "MS Dhoni (INDIA)",
          "V Kohli (INDIA)",
          "KS Williamson (NZ)",
          "SC Ganguly (INDIA)"
         ],
         "legendgroup": "",
         "marker": {
          "color": [
           100,
           100,
           75,
           75,
           71.42,
           66.66,
           60,
           50,
           50,
           50,
           40,
           37.5
          ],
          "coloraxis": "coloraxis",
          "pattern": {
           "shape": ""
          }
         },
         "name": "",
         "offsetgroup": "",
         "orientation": "v",
         "showlegend": false,
         "text": [
          100,
          100,
          75,
          75,
          71.42,
          66.66,
          60,
          50,
          50,
          50,
          40,
          37.5
         ],
         "textposition": "outside",
         "texttemplate": "%{text:.3s}",
         "type": "bar",
         "x": [
          "DB Vengsarkar (INDIA)",
          "G Gambhir (INDIA)",
          "N Kapil Dev (INDIA)",
          "BB McCullum (NZ)",
          "GP Howarth (NZ)",
          "SR Tendulkar (INDIA)",
          "SP Fleming (NZ)",
          "M Azharuddin (INDIA)",
          "MS Dhoni (INDIA)",
          "V Kohli (INDIA)",
          "KS Williamson (NZ)",
          "SC Ganguly (INDIA)"
         ],
         "xaxis": "x",
         "y": [
          100,
          100,
          75,
          75,
          71.42,
          66.66,
          60,
          50,
          50,
          50,
          40,
          37.5
         ],
         "yaxis": "y"
        }
       ],
       "layout": {
        "barmode": "relative",
        "coloraxis": {
         "colorbar": {
          "title": {
           "text": "%W"
          }
         },
         "colorscale": [
          [
           0,
           "#0d0887"
          ],
          [
           0.1111111111111111,
           "#46039f"
          ],
          [
           0.2222222222222222,
           "#7201a8"
          ],
          [
           0.3333333333333333,
           "#9c179e"
          ],
          [
           0.4444444444444444,
           "#bd3786"
          ],
          [
           0.5555555555555556,
           "#d8576b"
          ],
          [
           0.6666666666666666,
           "#ed7953"
          ],
          [
           0.7777777777777778,
           "#fb9f3a"
          ],
          [
           0.8888888888888888,
           "#fdca26"
          ],
          [
           1,
           "#f0f921"
          ]
         ]
        },
        "height": 600,
        "legend": {
         "tracegroupgap": 0
        },
        "template": {
         "data": {
          "bar": [
           {
            "error_x": {
             "color": "#2a3f5f"
            },
            "error_y": {
             "color": "#2a3f5f"
            },
            "marker": {
             "line": {
              "color": "#E5ECF6",
              "width": 0.5
             },
             "pattern": {
              "fillmode": "overlay",
              "size": 10,
              "solidity": 0.2
             }
            },
            "type": "bar"
           }
          ],
          "barpolar": [
           {
            "marker": {
             "line": {
              "color": "#E5ECF6",
              "width": 0.5
             },
             "pattern": {
              "fillmode": "overlay",
              "size": 10,
              "solidity": 0.2
             }
            },
            "type": "barpolar"
           }
          ],
          "carpet": [
           {
            "aaxis": {
             "endlinecolor": "#2a3f5f",
             "gridcolor": "white",
             "linecolor": "white",
             "minorgridcolor": "white",
             "startlinecolor": "#2a3f5f"
            },
            "baxis": {
             "endlinecolor": "#2a3f5f",
             "gridcolor": "white",
             "linecolor": "white",
             "minorgridcolor": "white",
             "startlinecolor": "#2a3f5f"
            },
            "type": "carpet"
           }
          ],
          "choropleth": [
           {
            "colorbar": {
             "outlinewidth": 0,
             "ticks": ""
            },
            "type": "choropleth"
           }
          ],
          "contour": [
           {
            "colorbar": {
             "outlinewidth": 0,
             "ticks": ""
            },
            "colorscale": [
             [
              0,
              "#0d0887"
             ],
             [
              0.1111111111111111,
              "#46039f"
             ],
             [
              0.2222222222222222,
              "#7201a8"
             ],
             [
              0.3333333333333333,
              "#9c179e"
             ],
             [
              0.4444444444444444,
              "#bd3786"
             ],
             [
              0.5555555555555556,
              "#d8576b"
             ],
             [
              0.6666666666666666,
              "#ed7953"
             ],
             [
              0.7777777777777778,
              "#fb9f3a"
             ],
             [
              0.8888888888888888,
              "#fdca26"
             ],
             [
              1,
              "#f0f921"
             ]
            ],
            "type": "contour"
           }
          ],
          "contourcarpet": [
           {
            "colorbar": {
             "outlinewidth": 0,
             "ticks": ""
            },
            "type": "contourcarpet"
           }
          ],
          "heatmap": [
           {
            "colorbar": {
             "outlinewidth": 0,
             "ticks": ""
            },
            "colorscale": [
             [
              0,
              "#0d0887"
             ],
             [
              0.1111111111111111,
              "#46039f"
             ],
             [
              0.2222222222222222,
              "#7201a8"
             ],
             [
              0.3333333333333333,
              "#9c179e"
             ],
             [
              0.4444444444444444,
              "#bd3786"
             ],
             [
              0.5555555555555556,
              "#d8576b"
             ],
             [
              0.6666666666666666,
              "#ed7953"
             ],
             [
              0.7777777777777778,
              "#fb9f3a"
             ],
             [
              0.8888888888888888,
              "#fdca26"
             ],
             [
              1,
              "#f0f921"
             ]
            ],
            "type": "heatmap"
           }
          ],
          "heatmapgl": [
           {
            "colorbar": {
             "outlinewidth": 0,
             "ticks": ""
            },
            "colorscale": [
             [
              0,
              "#0d0887"
             ],
             [
              0.1111111111111111,
              "#46039f"
             ],
             [
              0.2222222222222222,
              "#7201a8"
             ],
             [
              0.3333333333333333,
              "#9c179e"
             ],
             [
              0.4444444444444444,
              "#bd3786"
             ],
             [
              0.5555555555555556,
              "#d8576b"
             ],
             [
              0.6666666666666666,
              "#ed7953"
             ],
             [
              0.7777777777777778,
              "#fb9f3a"
             ],
             [
              0.8888888888888888,
              "#fdca26"
             ],
             [
              1,
              "#f0f921"
             ]
            ],
            "type": "heatmapgl"
           }
          ],
          "histogram": [
           {
            "marker": {
             "pattern": {
              "fillmode": "overlay",
              "size": 10,
              "solidity": 0.2
             }
            },
            "type": "histogram"
           }
          ],
          "histogram2d": [
           {
            "colorbar": {
             "outlinewidth": 0,
             "ticks": ""
            },
            "colorscale": [
             [
              0,
              "#0d0887"
             ],
             [
              0.1111111111111111,
              "#46039f"
             ],
             [
              0.2222222222222222,
              "#7201a8"
             ],
             [
              0.3333333333333333,
              "#9c179e"
             ],
             [
              0.4444444444444444,
              "#bd3786"
             ],
             [
              0.5555555555555556,
              "#d8576b"
             ],
             [
              0.6666666666666666,
              "#ed7953"
             ],
             [
              0.7777777777777778,
              "#fb9f3a"
             ],
             [
              0.8888888888888888,
              "#fdca26"
             ],
             [
              1,
              "#f0f921"
             ]
            ],
            "type": "histogram2d"
           }
          ],
          "histogram2dcontour": [
           {
            "colorbar": {
             "outlinewidth": 0,
             "ticks": ""
            },
            "colorscale": [
             [
              0,
              "#0d0887"
             ],
             [
              0.1111111111111111,
              "#46039f"
             ],
             [
              0.2222222222222222,
              "#7201a8"
             ],
             [
              0.3333333333333333,
              "#9c179e"
             ],
             [
              0.4444444444444444,
              "#bd3786"
             ],
             [
              0.5555555555555556,
              "#d8576b"
             ],
             [
              0.6666666666666666,
              "#ed7953"
             ],
             [
              0.7777777777777778,
              "#fb9f3a"
             ],
             [
              0.8888888888888888,
              "#fdca26"
             ],
             [
              1,
              "#f0f921"
             ]
            ],
            "type": "histogram2dcontour"
           }
          ],
          "mesh3d": [
           {
            "colorbar": {
             "outlinewidth": 0,
             "ticks": ""
            },
            "type": "mesh3d"
           }
          ],
          "parcoords": [
           {
            "line": {
             "colorbar": {
              "outlinewidth": 0,
              "ticks": ""
             }
            },
            "type": "parcoords"
           }
          ],
          "pie": [
           {
            "automargin": true,
            "type": "pie"
           }
          ],
          "scatter": [
           {
            "fillpattern": {
             "fillmode": "overlay",
             "size": 10,
             "solidity": 0.2
            },
            "type": "scatter"
           }
          ],
          "scatter3d": [
           {
            "line": {
             "colorbar": {
              "outlinewidth": 0,
              "ticks": ""
             }
            },
            "marker": {
             "colorbar": {
              "outlinewidth": 0,
              "ticks": ""
             }
            },
            "type": "scatter3d"
           }
          ],
          "scattercarpet": [
           {
            "marker": {
             "colorbar": {
              "outlinewidth": 0,
              "ticks": ""
             }
            },
            "type": "scattercarpet"
           }
          ],
          "scattergeo": [
           {
            "marker": {
             "colorbar": {
              "outlinewidth": 0,
              "ticks": ""
             }
            },
            "type": "scattergeo"
           }
          ],
          "scattergl": [
           {
            "marker": {
             "colorbar": {
              "outlinewidth": 0,
              "ticks": ""
             }
            },
            "type": "scattergl"
           }
          ],
          "scattermapbox": [
           {
            "marker": {
             "colorbar": {
              "outlinewidth": 0,
              "ticks": ""
             }
            },
            "type": "scattermapbox"
           }
          ],
          "scatterpolar": [
           {
            "marker": {
             "colorbar": {
              "outlinewidth": 0,
              "ticks": ""
             }
            },
            "type": "scatterpolar"
           }
          ],
          "scatterpolargl": [
           {
            "marker": {
             "colorbar": {
              "outlinewidth": 0,
              "ticks": ""
             }
            },
            "type": "scatterpolargl"
           }
          ],
          "scatterternary": [
           {
            "marker": {
             "colorbar": {
              "outlinewidth": 0,
              "ticks": ""
             }
            },
            "type": "scatterternary"
           }
          ],
          "surface": [
           {
            "colorbar": {
             "outlinewidth": 0,
             "ticks": ""
            },
            "colorscale": [
             [
              0,
              "#0d0887"
             ],
             [
              0.1111111111111111,
              "#46039f"
             ],
             [
              0.2222222222222222,
              "#7201a8"
             ],
             [
              0.3333333333333333,
              "#9c179e"
             ],
             [
              0.4444444444444444,
              "#bd3786"
             ],
             [
              0.5555555555555556,
              "#d8576b"
             ],
             [
              0.6666666666666666,
              "#ed7953"
             ],
             [
              0.7777777777777778,
              "#fb9f3a"
             ],
             [
              0.8888888888888888,
              "#fdca26"
             ],
             [
              1,
              "#f0f921"
             ]
            ],
            "type": "surface"
           }
          ],
          "table": [
           {
            "cells": {
             "fill": {
              "color": "#EBF0F8"
             },
             "line": {
              "color": "white"
             }
            },
            "header": {
             "fill": {
              "color": "#C8D4E3"
             },
             "line": {
              "color": "white"
             }
            },
            "type": "table"
           }
          ]
         },
         "layout": {
          "annotationdefaults": {
           "arrowcolor": "#2a3f5f",
           "arrowhead": 0,
           "arrowwidth": 1
          },
          "autotypenumbers": "strict",
          "coloraxis": {
           "colorbar": {
            "outlinewidth": 0,
            "ticks": ""
           }
          },
          "colorscale": {
           "diverging": [
            [
             0,
             "#8e0152"
            ],
            [
             0.1,
             "#c51b7d"
            ],
            [
             0.2,
             "#de77ae"
            ],
            [
             0.3,
             "#f1b6da"
            ],
            [
             0.4,
             "#fde0ef"
            ],
            [
             0.5,
             "#f7f7f7"
            ],
            [
             0.6,
             "#e6f5d0"
            ],
            [
             0.7,
             "#b8e186"
            ],
            [
             0.8,
             "#7fbc41"
            ],
            [
             0.9,
             "#4d9221"
            ],
            [
             1,
             "#276419"
            ]
           ],
           "sequential": [
            [
             0,
             "#0d0887"
            ],
            [
             0.1111111111111111,
             "#46039f"
            ],
            [
             0.2222222222222222,
             "#7201a8"
            ],
            [
             0.3333333333333333,
             "#9c179e"
            ],
            [
             0.4444444444444444,
             "#bd3786"
            ],
            [
             0.5555555555555556,
             "#d8576b"
            ],
            [
             0.6666666666666666,
             "#ed7953"
            ],
            [
             0.7777777777777778,
             "#fb9f3a"
            ],
            [
             0.8888888888888888,
             "#fdca26"
            ],
            [
             1,
             "#f0f921"
            ]
           ],
           "sequentialminus": [
            [
             0,
             "#0d0887"
            ],
            [
             0.1111111111111111,
             "#46039f"
            ],
            [
             0.2222222222222222,
             "#7201a8"
            ],
            [
             0.3333333333333333,
             "#9c179e"
            ],
            [
             0.4444444444444444,
             "#bd3786"
            ],
            [
             0.5555555555555556,
             "#d8576b"
            ],
            [
             0.6666666666666666,
             "#ed7953"
            ],
            [
             0.7777777777777778,
             "#fb9f3a"
            ],
            [
             0.8888888888888888,
             "#fdca26"
            ],
            [
             1,
             "#f0f921"
            ]
           ]
          },
          "colorway": [
           "#636efa",
           "#EF553B",
           "#00cc96",
           "#ab63fa",
           "#FFA15A",
           "#19d3f3",
           "#FF6692",
           "#B6E880",
           "#FF97FF",
           "#FECB52"
          ],
          "font": {
           "color": "#2a3f5f"
          },
          "geo": {
           "bgcolor": "white",
           "lakecolor": "white",
           "landcolor": "#E5ECF6",
           "showlakes": true,
           "showland": true,
           "subunitcolor": "white"
          },
          "hoverlabel": {
           "align": "left"
          },
          "hovermode": "closest",
          "mapbox": {
           "style": "light"
          },
          "paper_bgcolor": "white",
          "plot_bgcolor": "#E5ECF6",
          "polar": {
           "angularaxis": {
            "gridcolor": "white",
            "linecolor": "white",
            "ticks": ""
           },
           "bgcolor": "#E5ECF6",
           "radialaxis": {
            "gridcolor": "white",
            "linecolor": "white",
            "ticks": ""
           }
          },
          "scene": {
           "xaxis": {
            "backgroundcolor": "#E5ECF6",
            "gridcolor": "white",
            "gridwidth": 2,
            "linecolor": "white",
            "showbackground": true,
            "ticks": "",
            "zerolinecolor": "white"
           },
           "yaxis": {
            "backgroundcolor": "#E5ECF6",
            "gridcolor": "white",
            "gridwidth": 2,
            "linecolor": "white",
            "showbackground": true,
            "ticks": "",
            "zerolinecolor": "white"
           },
           "zaxis": {
            "backgroundcolor": "#E5ECF6",
            "gridcolor": "white",
            "gridwidth": 2,
            "linecolor": "white",
            "showbackground": true,
            "ticks": "",
            "zerolinecolor": "white"
           }
          },
          "shapedefaults": {
           "line": {
            "color": "#2a3f5f"
           }
          },
          "ternary": {
           "aaxis": {
            "gridcolor": "white",
            "linecolor": "white",
            "ticks": ""
           },
           "baxis": {
            "gridcolor": "white",
            "linecolor": "white",
            "ticks": ""
           },
           "bgcolor": "#E5ECF6",
           "caxis": {
            "gridcolor": "white",
            "linecolor": "white",
            "ticks": ""
           }
          },
          "title": {
           "x": 0.05
          },
          "xaxis": {
           "automargin": true,
           "gridcolor": "white",
           "linecolor": "white",
           "ticks": "",
           "title": {
            "standoff": 15
           },
           "zerolinecolor": "white",
           "zerolinewidth": 2
          },
          "yaxis": {
           "automargin": true,
           "gridcolor": "white",
           "linecolor": "white",
           "ticks": "",
           "title": {
            "standoff": 15
           },
           "zerolinecolor": "white",
           "zerolinewidth": 2
          }
         }
        },
        "title": {
         "text": "Captains with heighest win % in IND VS NZ odi"
        },
        "xaxis": {
         "anchor": "y",
         "domain": [
          0,
          1
         ],
         "title": {
          "text": "Player"
         }
        },
        "yaxis": {
         "anchor": "x",
         "domain": [
          0,
          1
         ],
         "title": {
          "text": "%W"
         }
        }
       }
      },
      "text/html": [
       "<div>                            <div id=\"5bdae8f6-f2fc-4055-ad98-a344e00ce7f8\" class=\"plotly-graph-div\" style=\"height:600px; width:100%;\"></div>            <script type=\"text/javascript\">                require([\"plotly\"], function(Plotly) {                    window.PLOTLYENV=window.PLOTLYENV || {};                                    if (document.getElementById(\"5bdae8f6-f2fc-4055-ad98-a344e00ce7f8\")) {                    Plotly.newPlot(                        \"5bdae8f6-f2fc-4055-ad98-a344e00ce7f8\",                        [{\"alignmentgroup\":\"True\",\"customdata\":[[\"1988-1988\",4],[\"2010-2010\",5],[\"1986-1987\",8],[\"2009-2014\",6],[\"1980-1985\",7],[\"1997-1999\",6],[\"1997-2005\",28],[\"1990-1999\",25],[\"2009-2016\",18],[\"2017-2020\",10],[\"2016-2020\",15],[\"2000-2005\",16]],\"hovertemplate\":\"<b>%{hovertext}</b><br><br>Player=%{x}<br>%W=%{marker.color}<br>Span=%{customdata[0]}<br>Matches=%{customdata[1]}<extra></extra>\",\"hovertext\":[\"DB Vengsarkar (INDIA)\",\"G Gambhir (INDIA)\",\"N Kapil Dev (INDIA)\",\"BB McCullum (NZ)\",\"GP Howarth (NZ)\",\"SR Tendulkar (INDIA)\",\"SP Fleming (NZ)\",\"M Azharuddin (INDIA)\",\"MS Dhoni (INDIA)\",\"V Kohli (INDIA)\",\"KS Williamson (NZ)\",\"SC Ganguly (INDIA)\"],\"legendgroup\":\"\",\"marker\":{\"color\":[100.0,100.0,75.0,75.0,71.42,66.66,60.0,50.0,50.0,50.0,40.0,37.5],\"coloraxis\":\"coloraxis\",\"pattern\":{\"shape\":\"\"}},\"name\":\"\",\"offsetgroup\":\"\",\"orientation\":\"v\",\"showlegend\":false,\"text\":[100.0,100.0,75.0,75.0,71.42,66.66,60.0,50.0,50.0,50.0,40.0,37.5],\"textposition\":\"outside\",\"x\":[\"DB Vengsarkar (INDIA)\",\"G Gambhir (INDIA)\",\"N Kapil Dev (INDIA)\",\"BB McCullum (NZ)\",\"GP Howarth (NZ)\",\"SR Tendulkar (INDIA)\",\"SP Fleming (NZ)\",\"M Azharuddin (INDIA)\",\"MS Dhoni (INDIA)\",\"V Kohli (INDIA)\",\"KS Williamson (NZ)\",\"SC Ganguly (INDIA)\"],\"xaxis\":\"x\",\"y\":[100.0,100.0,75.0,75.0,71.42,66.66,60.0,50.0,50.0,50.0,40.0,37.5],\"yaxis\":\"y\",\"type\":\"bar\",\"texttemplate\":\"%{text:.3s}\"}],                        {\"template\":{\"data\":{\"histogram2dcontour\":[{\"type\":\"histogram2dcontour\",\"colorbar\":{\"outlinewidth\":0,\"ticks\":\"\"},\"colorscale\":[[0.0,\"#0d0887\"],[0.1111111111111111,\"#46039f\"],[0.2222222222222222,\"#7201a8\"],[0.3333333333333333,\"#9c179e\"],[0.4444444444444444,\"#bd3786\"],[0.5555555555555556,\"#d8576b\"],[0.6666666666666666,\"#ed7953\"],[0.7777777777777778,\"#fb9f3a\"],[0.8888888888888888,\"#fdca26\"],[1.0,\"#f0f921\"]]}],\"choropleth\":[{\"type\":\"choropleth\",\"colorbar\":{\"outlinewidth\":0,\"ticks\":\"\"}}],\"histogram2d\":[{\"type\":\"histogram2d\",\"colorbar\":{\"outlinewidth\":0,\"ticks\":\"\"},\"colorscale\":[[0.0,\"#0d0887\"],[0.1111111111111111,\"#46039f\"],[0.2222222222222222,\"#7201a8\"],[0.3333333333333333,\"#9c179e\"],[0.4444444444444444,\"#bd3786\"],[0.5555555555555556,\"#d8576b\"],[0.6666666666666666,\"#ed7953\"],[0.7777777777777778,\"#fb9f3a\"],[0.8888888888888888,\"#fdca26\"],[1.0,\"#f0f921\"]]}],\"heatmap\":[{\"type\":\"heatmap\",\"colorbar\":{\"outlinewidth\":0,\"ticks\":\"\"},\"colorscale\":[[0.0,\"#0d0887\"],[0.1111111111111111,\"#46039f\"],[0.2222222222222222,\"#7201a8\"],[0.3333333333333333,\"#9c179e\"],[0.4444444444444444,\"#bd3786\"],[0.5555555555555556,\"#d8576b\"],[0.6666666666666666,\"#ed7953\"],[0.7777777777777778,\"#fb9f3a\"],[0.8888888888888888,\"#fdca26\"],[1.0,\"#f0f921\"]]}],\"heatmapgl\":[{\"type\":\"heatmapgl\",\"colorbar\":{\"outlinewidth\":0,\"ticks\":\"\"},\"colorscale\":[[0.0,\"#0d0887\"],[0.1111111111111111,\"#46039f\"],[0.2222222222222222,\"#7201a8\"],[0.3333333333333333,\"#9c179e\"],[0.4444444444444444,\"#bd3786\"],[0.5555555555555556,\"#d8576b\"],[0.6666666666666666,\"#ed7953\"],[0.7777777777777778,\"#fb9f3a\"],[0.8888888888888888,\"#fdca26\"],[1.0,\"#f0f921\"]]}],\"contourcarpet\":[{\"type\":\"contourcarpet\",\"colorbar\":{\"outlinewidth\":0,\"ticks\":\"\"}}],\"contour\":[{\"type\":\"contour\",\"colorbar\":{\"outlinewidth\":0,\"ticks\":\"\"},\"colorscale\":[[0.0,\"#0d0887\"],[0.1111111111111111,\"#46039f\"],[0.2222222222222222,\"#7201a8\"],[0.3333333333333333,\"#9c179e\"],[0.4444444444444444,\"#bd3786\"],[0.5555555555555556,\"#d8576b\"],[0.6666666666666666,\"#ed7953\"],[0.7777777777777778,\"#fb9f3a\"],[0.8888888888888888,\"#fdca26\"],[1.0,\"#f0f921\"]]}],\"surface\":[{\"type\":\"surface\",\"colorbar\":{\"outlinewidth\":0,\"ticks\":\"\"},\"colorscale\":[[0.0,\"#0d0887\"],[0.1111111111111111,\"#46039f\"],[0.2222222222222222,\"#7201a8\"],[0.3333333333333333,\"#9c179e\"],[0.4444444444444444,\"#bd3786\"],[0.5555555555555556,\"#d8576b\"],[0.6666666666666666,\"#ed7953\"],[0.7777777777777778,\"#fb9f3a\"],[0.8888888888888888,\"#fdca26\"],[1.0,\"#f0f921\"]]}],\"mesh3d\":[{\"type\":\"mesh3d\",\"colorbar\":{\"outlinewidth\":0,\"ticks\":\"\"}}],\"scatter\":[{\"fillpattern\":{\"fillmode\":\"overlay\",\"size\":10,\"solidity\":0.2},\"type\":\"scatter\"}],\"parcoords\":[{\"type\":\"parcoords\",\"line\":{\"colorbar\":{\"outlinewidth\":0,\"ticks\":\"\"}}}],\"scatterpolargl\":[{\"type\":\"scatterpolargl\",\"marker\":{\"colorbar\":{\"outlinewidth\":0,\"ticks\":\"\"}}}],\"bar\":[{\"error_x\":{\"color\":\"#2a3f5f\"},\"error_y\":{\"color\":\"#2a3f5f\"},\"marker\":{\"line\":{\"color\":\"#E5ECF6\",\"width\":0.5},\"pattern\":{\"fillmode\":\"overlay\",\"size\":10,\"solidity\":0.2}},\"type\":\"bar\"}],\"scattergeo\":[{\"type\":\"scattergeo\",\"marker\":{\"colorbar\":{\"outlinewidth\":0,\"ticks\":\"\"}}}],\"scatterpolar\":[{\"type\":\"scatterpolar\",\"marker\":{\"colorbar\":{\"outlinewidth\":0,\"ticks\":\"\"}}}],\"histogram\":[{\"marker\":{\"pattern\":{\"fillmode\":\"overlay\",\"size\":10,\"solidity\":0.2}},\"type\":\"histogram\"}],\"scattergl\":[{\"type\":\"scattergl\",\"marker\":{\"colorbar\":{\"outlinewidth\":0,\"ticks\":\"\"}}}],\"scatter3d\":[{\"type\":\"scatter3d\",\"line\":{\"colorbar\":{\"outlinewidth\":0,\"ticks\":\"\"}},\"marker\":{\"colorbar\":{\"outlinewidth\":0,\"ticks\":\"\"}}}],\"scattermapbox\":[{\"type\":\"scattermapbox\",\"marker\":{\"colorbar\":{\"outlinewidth\":0,\"ticks\":\"\"}}}],\"scatterternary\":[{\"type\":\"scatterternary\",\"marker\":{\"colorbar\":{\"outlinewidth\":0,\"ticks\":\"\"}}}],\"scattercarpet\":[{\"type\":\"scattercarpet\",\"marker\":{\"colorbar\":{\"outlinewidth\":0,\"ticks\":\"\"}}}],\"carpet\":[{\"aaxis\":{\"endlinecolor\":\"#2a3f5f\",\"gridcolor\":\"white\",\"linecolor\":\"white\",\"minorgridcolor\":\"white\",\"startlinecolor\":\"#2a3f5f\"},\"baxis\":{\"endlinecolor\":\"#2a3f5f\",\"gridcolor\":\"white\",\"linecolor\":\"white\",\"minorgridcolor\":\"white\",\"startlinecolor\":\"#2a3f5f\"},\"type\":\"carpet\"}],\"table\":[{\"cells\":{\"fill\":{\"color\":\"#EBF0F8\"},\"line\":{\"color\":\"white\"}},\"header\":{\"fill\":{\"color\":\"#C8D4E3\"},\"line\":{\"color\":\"white\"}},\"type\":\"table\"}],\"barpolar\":[{\"marker\":{\"line\":{\"color\":\"#E5ECF6\",\"width\":0.5},\"pattern\":{\"fillmode\":\"overlay\",\"size\":10,\"solidity\":0.2}},\"type\":\"barpolar\"}],\"pie\":[{\"automargin\":true,\"type\":\"pie\"}]},\"layout\":{\"autotypenumbers\":\"strict\",\"colorway\":[\"#636efa\",\"#EF553B\",\"#00cc96\",\"#ab63fa\",\"#FFA15A\",\"#19d3f3\",\"#FF6692\",\"#B6E880\",\"#FF97FF\",\"#FECB52\"],\"font\":{\"color\":\"#2a3f5f\"},\"hovermode\":\"closest\",\"hoverlabel\":{\"align\":\"left\"},\"paper_bgcolor\":\"white\",\"plot_bgcolor\":\"#E5ECF6\",\"polar\":{\"bgcolor\":\"#E5ECF6\",\"angularaxis\":{\"gridcolor\":\"white\",\"linecolor\":\"white\",\"ticks\":\"\"},\"radialaxis\":{\"gridcolor\":\"white\",\"linecolor\":\"white\",\"ticks\":\"\"}},\"ternary\":{\"bgcolor\":\"#E5ECF6\",\"aaxis\":{\"gridcolor\":\"white\",\"linecolor\":\"white\",\"ticks\":\"\"},\"baxis\":{\"gridcolor\":\"white\",\"linecolor\":\"white\",\"ticks\":\"\"},\"caxis\":{\"gridcolor\":\"white\",\"linecolor\":\"white\",\"ticks\":\"\"}},\"coloraxis\":{\"colorbar\":{\"outlinewidth\":0,\"ticks\":\"\"}},\"colorscale\":{\"sequential\":[[0.0,\"#0d0887\"],[0.1111111111111111,\"#46039f\"],[0.2222222222222222,\"#7201a8\"],[0.3333333333333333,\"#9c179e\"],[0.4444444444444444,\"#bd3786\"],[0.5555555555555556,\"#d8576b\"],[0.6666666666666666,\"#ed7953\"],[0.7777777777777778,\"#fb9f3a\"],[0.8888888888888888,\"#fdca26\"],[1.0,\"#f0f921\"]],\"sequentialminus\":[[0.0,\"#0d0887\"],[0.1111111111111111,\"#46039f\"],[0.2222222222222222,\"#7201a8\"],[0.3333333333333333,\"#9c179e\"],[0.4444444444444444,\"#bd3786\"],[0.5555555555555556,\"#d8576b\"],[0.6666666666666666,\"#ed7953\"],[0.7777777777777778,\"#fb9f3a\"],[0.8888888888888888,\"#fdca26\"],[1.0,\"#f0f921\"]],\"diverging\":[[0,\"#8e0152\"],[0.1,\"#c51b7d\"],[0.2,\"#de77ae\"],[0.3,\"#f1b6da\"],[0.4,\"#fde0ef\"],[0.5,\"#f7f7f7\"],[0.6,\"#e6f5d0\"],[0.7,\"#b8e186\"],[0.8,\"#7fbc41\"],[0.9,\"#4d9221\"],[1,\"#276419\"]]},\"xaxis\":{\"gridcolor\":\"white\",\"linecolor\":\"white\",\"ticks\":\"\",\"title\":{\"standoff\":15},\"zerolinecolor\":\"white\",\"automargin\":true,\"zerolinewidth\":2},\"yaxis\":{\"gridcolor\":\"white\",\"linecolor\":\"white\",\"ticks\":\"\",\"title\":{\"standoff\":15},\"zerolinecolor\":\"white\",\"automargin\":true,\"zerolinewidth\":2},\"scene\":{\"xaxis\":{\"backgroundcolor\":\"#E5ECF6\",\"gridcolor\":\"white\",\"linecolor\":\"white\",\"showbackground\":true,\"ticks\":\"\",\"zerolinecolor\":\"white\",\"gridwidth\":2},\"yaxis\":{\"backgroundcolor\":\"#E5ECF6\",\"gridcolor\":\"white\",\"linecolor\":\"white\",\"showbackground\":true,\"ticks\":\"\",\"zerolinecolor\":\"white\",\"gridwidth\":2},\"zaxis\":{\"backgroundcolor\":\"#E5ECF6\",\"gridcolor\":\"white\",\"linecolor\":\"white\",\"showbackground\":true,\"ticks\":\"\",\"zerolinecolor\":\"white\",\"gridwidth\":2}},\"shapedefaults\":{\"line\":{\"color\":\"#2a3f5f\"}},\"annotationdefaults\":{\"arrowcolor\":\"#2a3f5f\",\"arrowhead\":0,\"arrowwidth\":1},\"geo\":{\"bgcolor\":\"white\",\"landcolor\":\"#E5ECF6\",\"subunitcolor\":\"white\",\"showland\":true,\"showlakes\":true,\"lakecolor\":\"white\"},\"title\":{\"x\":0.05},\"mapbox\":{\"style\":\"light\"}}},\"xaxis\":{\"anchor\":\"y\",\"domain\":[0.0,1.0],\"title\":{\"text\":\"Player\"}},\"yaxis\":{\"anchor\":\"x\",\"domain\":[0.0,1.0],\"title\":{\"text\":\"%W\"}},\"coloraxis\":{\"colorbar\":{\"title\":{\"text\":\"%W\"}},\"colorscale\":[[0.0,\"#0d0887\"],[0.1111111111111111,\"#46039f\"],[0.2222222222222222,\"#7201a8\"],[0.3333333333333333,\"#9c179e\"],[0.4444444444444444,\"#bd3786\"],[0.5555555555555556,\"#d8576b\"],[0.6666666666666666,\"#ed7953\"],[0.7777777777777778,\"#fb9f3a\"],[0.8888888888888888,\"#fdca26\"],[1.0,\"#f0f921\"]]},\"legend\":{\"tracegroupgap\":0},\"title\":{\"text\":\"Captains with heighest win % in IND VS NZ odi\"},\"barmode\":\"relative\",\"height\":600},                        {\"responsive\": true}                    ).then(function(){\n",
       "                            \n",
       "var gd = document.getElementById('5bdae8f6-f2fc-4055-ad98-a344e00ce7f8');\n",
       "var x = new MutationObserver(function (mutations, observer) {{\n",
       "        var display = window.getComputedStyle(gd).display;\n",
       "        if (!display || display === 'none') {{\n",
       "            console.log([gd, 'removed!']);\n",
       "            Plotly.purge(gd);\n",
       "            observer.disconnect();\n",
       "        }}\n",
       "}});\n",
       "\n",
       "// Listen for the removal of the full notebook cells\n",
       "var notebookContainer = gd.closest('#notebook-container');\n",
       "if (notebookContainer) {{\n",
       "    x.observe(notebookContainer, {childList: true});\n",
       "}}\n",
       "\n",
       "// Listen for the clearing of the current output cell\n",
       "var outputEl = gd.closest('.output');\n",
       "if (outputEl) {{\n",
       "    x.observe(outputEl, {childList: true});\n",
       "}}\n",
       "\n",
       "                        })                };                });            </script>        </div>"
      ]
     },
     "metadata": {},
     "output_type": "display_data"
    }
   ],
   "source": [
    "fig=go.Figure()\n",
    "fig=px.bar(succesful_odi_captain.sort_values(by='%W',ascending=False),x='Player',y='%W',text='%W',title='Captains with heighest win % in IND VS NZ odi',color='%W',height=600,hover_data=['%W','Span','Matches'],hover_name='Player')\n",
    "fig.update_traces(texttemplate='%{text:.3s}',textposition='outside')"
   ]
  },
  {
   "cell_type": "code",
   "execution_count": 237,
   "metadata": {},
   "outputs": [
    {
     "data": {
      "text/html": [
       "<div>\n",
       "<style scoped>\n",
       "    .dataframe tbody tr th:only-of-type {\n",
       "        vertical-align: middle;\n",
       "    }\n",
       "\n",
       "    .dataframe tbody tr th {\n",
       "        vertical-align: top;\n",
       "    }\n",
       "\n",
       "    .dataframe thead th {\n",
       "        text-align: right;\n",
       "    }\n",
       "</style>\n",
       "<table border=\"1\" class=\"dataframe\">\n",
       "  <thead>\n",
       "    <tr style=\"text-align: right;\">\n",
       "      <th></th>\n",
       "      <th>Series/Tournament</th>\n",
       "      <th>Season</th>\n",
       "      <th>Unnamed: 2</th>\n",
       "      <th>Winner</th>\n",
       "      <th>Margin</th>\n",
       "    </tr>\n",
       "  </thead>\n",
       "  <tbody>\n",
       "    <tr>\n",
       "      <th>0</th>\n",
       "      <td>New Zealand in India Test Series</td>\n",
       "      <td>1955/56</td>\n",
       "      <td>NaN</td>\n",
       "      <td>India</td>\n",
       "      <td>2-0 (5)</td>\n",
       "    </tr>\n",
       "    <tr>\n",
       "      <th>1</th>\n",
       "      <td>New Zealand in India Test Series</td>\n",
       "      <td>1964/65</td>\n",
       "      <td>NaN</td>\n",
       "      <td>India</td>\n",
       "      <td>1-0 (4)</td>\n",
       "    </tr>\n",
       "    <tr>\n",
       "      <th>2</th>\n",
       "      <td>India in New Zealand Test Series</td>\n",
       "      <td>1967/68</td>\n",
       "      <td>NaN</td>\n",
       "      <td>India</td>\n",
       "      <td>3-1 (4)</td>\n",
       "    </tr>\n",
       "    <tr>\n",
       "      <th>3</th>\n",
       "      <td>New Zealand in India Test Series</td>\n",
       "      <td>1969/70</td>\n",
       "      <td>NaN</td>\n",
       "      <td>drawn</td>\n",
       "      <td>1-1 (3)</td>\n",
       "    </tr>\n",
       "    <tr>\n",
       "      <th>4</th>\n",
       "      <td>India in New Zealand Test Series</td>\n",
       "      <td>1975/76</td>\n",
       "      <td>NaN</td>\n",
       "      <td>drawn</td>\n",
       "      <td>1-1 (3)</td>\n",
       "    </tr>\n",
       "    <tr>\n",
       "      <th>5</th>\n",
       "      <td>New Zealand in India Test Series</td>\n",
       "      <td>1976/77</td>\n",
       "      <td>NaN</td>\n",
       "      <td>India</td>\n",
       "      <td>2-0 (3)</td>\n",
       "    </tr>\n",
       "    <tr>\n",
       "      <th>6</th>\n",
       "      <td>India in New Zealand Test Series</td>\n",
       "      <td>1980/81</td>\n",
       "      <td>NaN</td>\n",
       "      <td>New Zealand</td>\n",
       "      <td>1-0 (3)</td>\n",
       "    </tr>\n",
       "    <tr>\n",
       "      <th>7</th>\n",
       "      <td>New Zealand in India Test Series</td>\n",
       "      <td>1988/89</td>\n",
       "      <td>NaN</td>\n",
       "      <td>India</td>\n",
       "      <td>2-1 (3)</td>\n",
       "    </tr>\n",
       "    <tr>\n",
       "      <th>8</th>\n",
       "      <td>India in New Zealand Test Series</td>\n",
       "      <td>1989/90</td>\n",
       "      <td>NaN</td>\n",
       "      <td>New Zealand</td>\n",
       "      <td>1-0 (3)</td>\n",
       "    </tr>\n",
       "    <tr>\n",
       "      <th>9</th>\n",
       "      <td>India in New Zealand Test Match</td>\n",
       "      <td>1993/94</td>\n",
       "      <td>NaN</td>\n",
       "      <td>drawn</td>\n",
       "      <td>0-0 (1)</td>\n",
       "    </tr>\n",
       "    <tr>\n",
       "      <th>10</th>\n",
       "      <td>New Zealand in India Test Series</td>\n",
       "      <td>1995/96</td>\n",
       "      <td>NaN</td>\n",
       "      <td>India</td>\n",
       "      <td>1-0 (3)</td>\n",
       "    </tr>\n",
       "    <tr>\n",
       "      <th>11</th>\n",
       "      <td>India in New Zealand Test Series</td>\n",
       "      <td>1998/99</td>\n",
       "      <td>NaN</td>\n",
       "      <td>New Zealand</td>\n",
       "      <td>1-0 (2)</td>\n",
       "    </tr>\n",
       "    <tr>\n",
       "      <th>12</th>\n",
       "      <td>New Zealand in India Test Series</td>\n",
       "      <td>1999/00</td>\n",
       "      <td>NaN</td>\n",
       "      <td>India</td>\n",
       "      <td>1-0 (3)</td>\n",
       "    </tr>\n",
       "    <tr>\n",
       "      <th>13</th>\n",
       "      <td>India in New Zealand Test Series</td>\n",
       "      <td>2002/03</td>\n",
       "      <td>NaN</td>\n",
       "      <td>New Zealand</td>\n",
       "      <td>2-0 (2)</td>\n",
       "    </tr>\n",
       "    <tr>\n",
       "      <th>14</th>\n",
       "      <td>New Zealand in India Test Series</td>\n",
       "      <td>2003/04</td>\n",
       "      <td>NaN</td>\n",
       "      <td>drawn</td>\n",
       "      <td>0-0 (2)</td>\n",
       "    </tr>\n",
       "    <tr>\n",
       "      <th>15</th>\n",
       "      <td>India in New Zealand Test Series</td>\n",
       "      <td>2008/09</td>\n",
       "      <td>NaN</td>\n",
       "      <td>India</td>\n",
       "      <td>1-0 (3)</td>\n",
       "    </tr>\n",
       "    <tr>\n",
       "      <th>16</th>\n",
       "      <td>New Zealand in India Test Series</td>\n",
       "      <td>2010/11</td>\n",
       "      <td>NaN</td>\n",
       "      <td>India</td>\n",
       "      <td>1-0 (3)</td>\n",
       "    </tr>\n",
       "    <tr>\n",
       "      <th>17</th>\n",
       "      <td>New Zealand in India Test Series</td>\n",
       "      <td>2012</td>\n",
       "      <td>NaN</td>\n",
       "      <td>India</td>\n",
       "      <td>2-0 (2)</td>\n",
       "    </tr>\n",
       "    <tr>\n",
       "      <th>18</th>\n",
       "      <td>India in New Zealand Test Series</td>\n",
       "      <td>2013/14</td>\n",
       "      <td>NaN</td>\n",
       "      <td>New Zealand</td>\n",
       "      <td>1-0 (2)</td>\n",
       "    </tr>\n",
       "    <tr>\n",
       "      <th>19</th>\n",
       "      <td>New Zealand in India Test Series</td>\n",
       "      <td>2016/17</td>\n",
       "      <td>NaN</td>\n",
       "      <td>India</td>\n",
       "      <td>3-0 (3)</td>\n",
       "    </tr>\n",
       "    <tr>\n",
       "      <th>20</th>\n",
       "      <td>India in New Zealand Test Series</td>\n",
       "      <td>2019/20</td>\n",
       "      <td>NaN</td>\n",
       "      <td>New Zealand</td>\n",
       "      <td>2-0 (2)</td>\n",
       "    </tr>\n",
       "    <tr>\n",
       "      <th>21</th>\n",
       "      <td>India v New Zealand Test Match (in England)</td>\n",
       "      <td>2021</td>\n",
       "      <td>NaN</td>\n",
       "      <td>New Zealand</td>\n",
       "      <td>1-0 (1)</td>\n",
       "    </tr>\n",
       "    <tr>\n",
       "      <th>22</th>\n",
       "      <td>New Zealand in India Test Series</td>\n",
       "      <td>2021/22</td>\n",
       "      <td>NaN</td>\n",
       "      <td>India</td>\n",
       "      <td>1-0 (2)</td>\n",
       "    </tr>\n",
       "  </tbody>\n",
       "</table>\n",
       "</div>"
      ],
      "text/plain": [
       "                              Series/Tournament   Season  Unnamed: 2  \\\n",
       "0              New Zealand in India Test Series  1955/56         NaN   \n",
       "1              New Zealand in India Test Series  1964/65         NaN   \n",
       "2              India in New Zealand Test Series  1967/68         NaN   \n",
       "3              New Zealand in India Test Series  1969/70         NaN   \n",
       "4              India in New Zealand Test Series  1975/76         NaN   \n",
       "5              New Zealand in India Test Series  1976/77         NaN   \n",
       "6              India in New Zealand Test Series  1980/81         NaN   \n",
       "7              New Zealand in India Test Series  1988/89         NaN   \n",
       "8              India in New Zealand Test Series  1989/90         NaN   \n",
       "9               India in New Zealand Test Match  1993/94         NaN   \n",
       "10             New Zealand in India Test Series  1995/96         NaN   \n",
       "11             India in New Zealand Test Series  1998/99         NaN   \n",
       "12             New Zealand in India Test Series  1999/00         NaN   \n",
       "13             India in New Zealand Test Series  2002/03         NaN   \n",
       "14             New Zealand in India Test Series  2003/04         NaN   \n",
       "15             India in New Zealand Test Series  2008/09         NaN   \n",
       "16             New Zealand in India Test Series  2010/11         NaN   \n",
       "17             New Zealand in India Test Series     2012         NaN   \n",
       "18             India in New Zealand Test Series  2013/14         NaN   \n",
       "19             New Zealand in India Test Series  2016/17         NaN   \n",
       "20             India in New Zealand Test Series  2019/20         NaN   \n",
       "21  India v New Zealand Test Match (in England)     2021         NaN   \n",
       "22             New Zealand in India Test Series  2021/22         NaN   \n",
       "\n",
       "         Winner   Margin  \n",
       "0         India  2-0 (5)  \n",
       "1         India  1-0 (4)  \n",
       "2         India  3-1 (4)  \n",
       "3         drawn  1-1 (3)  \n",
       "4         drawn  1-1 (3)  \n",
       "5         India  2-0 (3)  \n",
       "6   New Zealand  1-0 (3)  \n",
       "7         India  2-1 (3)  \n",
       "8   New Zealand  1-0 (3)  \n",
       "9         drawn  0-0 (1)  \n",
       "10        India  1-0 (3)  \n",
       "11  New Zealand  1-0 (2)  \n",
       "12        India  1-0 (3)  \n",
       "13  New Zealand  2-0 (2)  \n",
       "14        drawn  0-0 (2)  \n",
       "15        India  1-0 (3)  \n",
       "16        India  1-0 (3)  \n",
       "17        India  2-0 (2)  \n",
       "18  New Zealand  1-0 (2)  \n",
       "19        India  3-0 (3)  \n",
       "20  New Zealand  2-0 (2)  \n",
       "21  New Zealand  1-0 (1)  \n",
       "22        India  1-0 (2)  "
      ]
     },
     "execution_count": 237,
     "metadata": {},
     "output_type": "execute_result"
    }
   ],
   "source": [
    "df3=pd.read_html('https://stats.espncricinfo.com/ci/engine/records/team/series_results.html?class=1;id=5;id=6;type=headtohead')\n",
    "df3[0]"
   ]
  },
  {
   "cell_type": "code",
   "execution_count": 238,
   "metadata": {},
   "outputs": [
    {
     "data": {
      "text/html": [
       "<div>\n",
       "<style scoped>\n",
       "    .dataframe tbody tr th:only-of-type {\n",
       "        vertical-align: middle;\n",
       "    }\n",
       "\n",
       "    .dataframe tbody tr th {\n",
       "        vertical-align: top;\n",
       "    }\n",
       "\n",
       "    .dataframe thead th {\n",
       "        text-align: right;\n",
       "    }\n",
       "</style>\n",
       "<table border=\"1\" class=\"dataframe\">\n",
       "  <thead>\n",
       "    <tr style=\"text-align: right;\">\n",
       "      <th></th>\n",
       "      <th>Series/Tournament</th>\n",
       "      <th>Season</th>\n",
       "      <th>Winner</th>\n",
       "      <th>Margin</th>\n",
       "    </tr>\n",
       "  </thead>\n",
       "  <tbody>\n",
       "    <tr>\n",
       "      <th>0</th>\n",
       "      <td>New Zealand in India Test Series</td>\n",
       "      <td>1955/56</td>\n",
       "      <td>India</td>\n",
       "      <td>2-0 (5)</td>\n",
       "    </tr>\n",
       "    <tr>\n",
       "      <th>1</th>\n",
       "      <td>New Zealand in India Test Series</td>\n",
       "      <td>1964/65</td>\n",
       "      <td>India</td>\n",
       "      <td>1-0 (4)</td>\n",
       "    </tr>\n",
       "    <tr>\n",
       "      <th>2</th>\n",
       "      <td>India in New Zealand Test Series</td>\n",
       "      <td>1967/68</td>\n",
       "      <td>India</td>\n",
       "      <td>3-1 (4)</td>\n",
       "    </tr>\n",
       "    <tr>\n",
       "      <th>3</th>\n",
       "      <td>New Zealand in India Test Series</td>\n",
       "      <td>1969/70</td>\n",
       "      <td>drawn</td>\n",
       "      <td>1-1 (3)</td>\n",
       "    </tr>\n",
       "    <tr>\n",
       "      <th>4</th>\n",
       "      <td>India in New Zealand Test Series</td>\n",
       "      <td>1975/76</td>\n",
       "      <td>drawn</td>\n",
       "      <td>1-1 (3)</td>\n",
       "    </tr>\n",
       "    <tr>\n",
       "      <th>5</th>\n",
       "      <td>New Zealand in India Test Series</td>\n",
       "      <td>1976/77</td>\n",
       "      <td>India</td>\n",
       "      <td>2-0 (3)</td>\n",
       "    </tr>\n",
       "    <tr>\n",
       "      <th>6</th>\n",
       "      <td>India in New Zealand Test Series</td>\n",
       "      <td>1980/81</td>\n",
       "      <td>New Zealand</td>\n",
       "      <td>1-0 (3)</td>\n",
       "    </tr>\n",
       "    <tr>\n",
       "      <th>7</th>\n",
       "      <td>New Zealand in India Test Series</td>\n",
       "      <td>1988/89</td>\n",
       "      <td>India</td>\n",
       "      <td>2-1 (3)</td>\n",
       "    </tr>\n",
       "    <tr>\n",
       "      <th>8</th>\n",
       "      <td>India in New Zealand Test Series</td>\n",
       "      <td>1989/90</td>\n",
       "      <td>New Zealand</td>\n",
       "      <td>1-0 (3)</td>\n",
       "    </tr>\n",
       "    <tr>\n",
       "      <th>9</th>\n",
       "      <td>India in New Zealand Test Match</td>\n",
       "      <td>1993/94</td>\n",
       "      <td>drawn</td>\n",
       "      <td>0-0 (1)</td>\n",
       "    </tr>\n",
       "    <tr>\n",
       "      <th>10</th>\n",
       "      <td>New Zealand in India Test Series</td>\n",
       "      <td>1995/96</td>\n",
       "      <td>India</td>\n",
       "      <td>1-0 (3)</td>\n",
       "    </tr>\n",
       "    <tr>\n",
       "      <th>11</th>\n",
       "      <td>India in New Zealand Test Series</td>\n",
       "      <td>1998/99</td>\n",
       "      <td>New Zealand</td>\n",
       "      <td>1-0 (2)</td>\n",
       "    </tr>\n",
       "    <tr>\n",
       "      <th>12</th>\n",
       "      <td>New Zealand in India Test Series</td>\n",
       "      <td>1999/00</td>\n",
       "      <td>India</td>\n",
       "      <td>1-0 (3)</td>\n",
       "    </tr>\n",
       "    <tr>\n",
       "      <th>13</th>\n",
       "      <td>India in New Zealand Test Series</td>\n",
       "      <td>2002/03</td>\n",
       "      <td>New Zealand</td>\n",
       "      <td>2-0 (2)</td>\n",
       "    </tr>\n",
       "    <tr>\n",
       "      <th>14</th>\n",
       "      <td>New Zealand in India Test Series</td>\n",
       "      <td>2003/04</td>\n",
       "      <td>drawn</td>\n",
       "      <td>0-0 (2)</td>\n",
       "    </tr>\n",
       "    <tr>\n",
       "      <th>15</th>\n",
       "      <td>India in New Zealand Test Series</td>\n",
       "      <td>2008/09</td>\n",
       "      <td>India</td>\n",
       "      <td>1-0 (3)</td>\n",
       "    </tr>\n",
       "    <tr>\n",
       "      <th>16</th>\n",
       "      <td>New Zealand in India Test Series</td>\n",
       "      <td>2010/11</td>\n",
       "      <td>India</td>\n",
       "      <td>1-0 (3)</td>\n",
       "    </tr>\n",
       "    <tr>\n",
       "      <th>17</th>\n",
       "      <td>New Zealand in India Test Series</td>\n",
       "      <td>2012</td>\n",
       "      <td>India</td>\n",
       "      <td>2-0 (2)</td>\n",
       "    </tr>\n",
       "    <tr>\n",
       "      <th>18</th>\n",
       "      <td>India in New Zealand Test Series</td>\n",
       "      <td>2013/14</td>\n",
       "      <td>New Zealand</td>\n",
       "      <td>1-0 (2)</td>\n",
       "    </tr>\n",
       "    <tr>\n",
       "      <th>19</th>\n",
       "      <td>New Zealand in India Test Series</td>\n",
       "      <td>2016/17</td>\n",
       "      <td>India</td>\n",
       "      <td>3-0 (3)</td>\n",
       "    </tr>\n",
       "    <tr>\n",
       "      <th>20</th>\n",
       "      <td>India in New Zealand Test Series</td>\n",
       "      <td>2019/20</td>\n",
       "      <td>New Zealand</td>\n",
       "      <td>2-0 (2)</td>\n",
       "    </tr>\n",
       "    <tr>\n",
       "      <th>21</th>\n",
       "      <td>India v New Zealand Test Match (in England)</td>\n",
       "      <td>2021</td>\n",
       "      <td>New Zealand</td>\n",
       "      <td>1-0 (1)</td>\n",
       "    </tr>\n",
       "    <tr>\n",
       "      <th>22</th>\n",
       "      <td>New Zealand in India Test Series</td>\n",
       "      <td>2021/22</td>\n",
       "      <td>India</td>\n",
       "      <td>1-0 (2)</td>\n",
       "    </tr>\n",
       "  </tbody>\n",
       "</table>\n",
       "</div>"
      ],
      "text/plain": [
       "                              Series/Tournament   Season       Winner   Margin\n",
       "0              New Zealand in India Test Series  1955/56        India  2-0 (5)\n",
       "1              New Zealand in India Test Series  1964/65        India  1-0 (4)\n",
       "2              India in New Zealand Test Series  1967/68        India  3-1 (4)\n",
       "3              New Zealand in India Test Series  1969/70        drawn  1-1 (3)\n",
       "4              India in New Zealand Test Series  1975/76        drawn  1-1 (3)\n",
       "5              New Zealand in India Test Series  1976/77        India  2-0 (3)\n",
       "6              India in New Zealand Test Series  1980/81  New Zealand  1-0 (3)\n",
       "7              New Zealand in India Test Series  1988/89        India  2-1 (3)\n",
       "8              India in New Zealand Test Series  1989/90  New Zealand  1-0 (3)\n",
       "9               India in New Zealand Test Match  1993/94        drawn  0-0 (1)\n",
       "10             New Zealand in India Test Series  1995/96        India  1-0 (3)\n",
       "11             India in New Zealand Test Series  1998/99  New Zealand  1-0 (2)\n",
       "12             New Zealand in India Test Series  1999/00        India  1-0 (3)\n",
       "13             India in New Zealand Test Series  2002/03  New Zealand  2-0 (2)\n",
       "14             New Zealand in India Test Series  2003/04        drawn  0-0 (2)\n",
       "15             India in New Zealand Test Series  2008/09        India  1-0 (3)\n",
       "16             New Zealand in India Test Series  2010/11        India  1-0 (3)\n",
       "17             New Zealand in India Test Series     2012        India  2-0 (2)\n",
       "18             India in New Zealand Test Series  2013/14  New Zealand  1-0 (2)\n",
       "19             New Zealand in India Test Series  2016/17        India  3-0 (3)\n",
       "20             India in New Zealand Test Series  2019/20  New Zealand  2-0 (2)\n",
       "21  India v New Zealand Test Match (in England)     2021  New Zealand  1-0 (1)\n",
       "22             New Zealand in India Test Series  2021/22        India  1-0 (2)"
      ]
     },
     "execution_count": 238,
     "metadata": {},
     "output_type": "execute_result"
    }
   ],
   "source": [
    "df3[0].to_csv('indvsnz_test_result.csv')\n",
    "test_results=pd.read_csv('indvsnz_test_result.csv')\n",
    "test_results.drop(columns=['Unnamed: 2','Unnamed: 0'],inplace=True)\n",
    "test_results"
   ]
  },
  {
   "cell_type": "code",
   "execution_count": 239,
   "metadata": {},
   "outputs": [
    {
     "data": {
      "text/plain": [
       "Series/Tournament    object\n",
       "Season               object\n",
       "Winner               object\n",
       "Margin               object\n",
       "dtype: object"
      ]
     },
     "execution_count": 239,
     "metadata": {},
     "output_type": "execute_result"
    }
   ],
   "source": [
    "test_results.dtypes"
   ]
  },
  {
   "cell_type": "code",
   "execution_count": 240,
   "metadata": {},
   "outputs": [
    {
     "data": {
      "text/html": [
       "<div>\n",
       "<style scoped>\n",
       "    .dataframe tbody tr th:only-of-type {\n",
       "        vertical-align: middle;\n",
       "    }\n",
       "\n",
       "    .dataframe tbody tr th {\n",
       "        vertical-align: top;\n",
       "    }\n",
       "\n",
       "    .dataframe thead th {\n",
       "        text-align: right;\n",
       "    }\n",
       "</style>\n",
       "<table border=\"1\" class=\"dataframe\">\n",
       "  <thead>\n",
       "    <tr style=\"text-align: right;\">\n",
       "      <th></th>\n",
       "      <th>Series/Tournament</th>\n",
       "      <th>Season</th>\n",
       "      <th>Winner</th>\n",
       "      <th>Margin</th>\n",
       "    </tr>\n",
       "  </thead>\n",
       "  <tbody>\n",
       "    <tr>\n",
       "      <th>2</th>\n",
       "      <td>India in New Zealand Test Series</td>\n",
       "      <td>1967/68</td>\n",
       "      <td>India</td>\n",
       "      <td>3-1 (4)</td>\n",
       "    </tr>\n",
       "    <tr>\n",
       "      <th>15</th>\n",
       "      <td>India in New Zealand Test Series</td>\n",
       "      <td>2008/09</td>\n",
       "      <td>India</td>\n",
       "      <td>1-0 (3)</td>\n",
       "    </tr>\n",
       "  </tbody>\n",
       "</table>\n",
       "</div>"
      ],
      "text/plain": [
       "                   Series/Tournament   Season Winner   Margin\n",
       "2   India in New Zealand Test Series  1967/68  India  3-1 (4)\n",
       "15  India in New Zealand Test Series  2008/09  India  1-0 (3)"
      ]
     },
     "execution_count": 240,
     "metadata": {},
     "output_type": "execute_result"
    }
   ],
   "source": [
    "ind_tour_nz_test=test_results.loc[test_results['Series/Tournament']=='India in New Zealand Test Series']\n",
    "total_ind_tour_nz_test=ind_tour_nz_test.shape[0]\n",
    "ind_tour_nz_test.loc[ind_tour_nz_test.Winner=='India']"
   ]
  },
  {
   "cell_type": "code",
   "execution_count": 241,
   "metadata": {},
   "outputs": [
    {
     "data": {
      "text/html": [
       "<div>\n",
       "<style scoped>\n",
       "    .dataframe tbody tr th:only-of-type {\n",
       "        vertical-align: middle;\n",
       "    }\n",
       "\n",
       "    .dataframe tbody tr th {\n",
       "        vertical-align: top;\n",
       "    }\n",
       "\n",
       "    .dataframe thead th {\n",
       "        text-align: right;\n",
       "    }\n",
       "</style>\n",
       "<table border=\"1\" class=\"dataframe\">\n",
       "  <thead>\n",
       "    <tr style=\"text-align: right;\">\n",
       "      <th></th>\n",
       "      <th>Series/Tournament</th>\n",
       "      <th>Season</th>\n",
       "      <th>Unnamed: 2</th>\n",
       "      <th>Winner</th>\n",
       "      <th>Margin</th>\n",
       "    </tr>\n",
       "  </thead>\n",
       "  <tbody>\n",
       "    <tr>\n",
       "      <th>0</th>\n",
       "      <td>India in New Zealand ODI Series</td>\n",
       "      <td>1975/76</td>\n",
       "      <td>NaN</td>\n",
       "      <td>New Zealand</td>\n",
       "      <td>2-0 (2)</td>\n",
       "    </tr>\n",
       "    <tr>\n",
       "      <th>1</th>\n",
       "      <td>India in New Zealand ODI Series</td>\n",
       "      <td>1980/81</td>\n",
       "      <td>NaN</td>\n",
       "      <td>New Zealand</td>\n",
       "      <td>2-0 (2)</td>\n",
       "    </tr>\n",
       "    <tr>\n",
       "      <th>2</th>\n",
       "      <td>Rothmans Cup Triangular Series (Australia, Ind...</td>\n",
       "      <td>1989/90</td>\n",
       "      <td>NaN</td>\n",
       "      <td>Australia</td>\n",
       "      <td>NaN</td>\n",
       "    </tr>\n",
       "    <tr>\n",
       "      <th>3</th>\n",
       "      <td>Benson &amp; Hedges World Cup (in Australia/New Ze...</td>\n",
       "      <td>1991/92</td>\n",
       "      <td>NaN</td>\n",
       "      <td>Pakistan</td>\n",
       "      <td>NaN</td>\n",
       "    </tr>\n",
       "    <tr>\n",
       "      <th>4</th>\n",
       "      <td>India in New Zealand ODI Series</td>\n",
       "      <td>1993/94</td>\n",
       "      <td>NaN</td>\n",
       "      <td>drawn</td>\n",
       "      <td>2-2 (4)</td>\n",
       "    </tr>\n",
       "    <tr>\n",
       "      <th>5</th>\n",
       "      <td>New Zealand Centenary Tournament (Australia, I...</td>\n",
       "      <td>1994/95</td>\n",
       "      <td>NaN</td>\n",
       "      <td>Australia</td>\n",
       "      <td>NaN</td>\n",
       "    </tr>\n",
       "    <tr>\n",
       "      <th>6</th>\n",
       "      <td>India in New Zealand ODI Series</td>\n",
       "      <td>1998/99</td>\n",
       "      <td>NaN</td>\n",
       "      <td>drawn</td>\n",
       "      <td>2-2 (5)</td>\n",
       "    </tr>\n",
       "    <tr>\n",
       "      <th>7</th>\n",
       "      <td>India in New Zealand ODI Series</td>\n",
       "      <td>2002/03</td>\n",
       "      <td>NaN</td>\n",
       "      <td>New Zealand</td>\n",
       "      <td>5-2 (7)</td>\n",
       "    </tr>\n",
       "    <tr>\n",
       "      <th>8</th>\n",
       "      <td>India in New Zealand ODI Series</td>\n",
       "      <td>2008/09</td>\n",
       "      <td>NaN</td>\n",
       "      <td>India</td>\n",
       "      <td>3-1 (5)</td>\n",
       "    </tr>\n",
       "    <tr>\n",
       "      <th>9</th>\n",
       "      <td>India in New Zealand ODI Series</td>\n",
       "      <td>2013/14</td>\n",
       "      <td>NaN</td>\n",
       "      <td>New Zealand</td>\n",
       "      <td>4-0 (5)</td>\n",
       "    </tr>\n",
       "    <tr>\n",
       "      <th>10</th>\n",
       "      <td>ICC Cricket World Cup (in Australia/New Zealand)</td>\n",
       "      <td>2014/15</td>\n",
       "      <td>NaN</td>\n",
       "      <td>Australia</td>\n",
       "      <td>NaN</td>\n",
       "    </tr>\n",
       "    <tr>\n",
       "      <th>11</th>\n",
       "      <td>India in New Zealand ODI Series</td>\n",
       "      <td>2018/19</td>\n",
       "      <td>NaN</td>\n",
       "      <td>India</td>\n",
       "      <td>4-1 (5)</td>\n",
       "    </tr>\n",
       "    <tr>\n",
       "      <th>12</th>\n",
       "      <td>India in New Zealand ODI Series</td>\n",
       "      <td>2019/20</td>\n",
       "      <td>NaN</td>\n",
       "      <td>New Zealand</td>\n",
       "      <td>3-0 (3)</td>\n",
       "    </tr>\n",
       "  </tbody>\n",
       "</table>\n",
       "</div>"
      ],
      "text/plain": [
       "                                    Series/Tournament   Season  Unnamed: 2  \\\n",
       "0                     India in New Zealand ODI Series  1975/76         NaN   \n",
       "1                     India in New Zealand ODI Series  1980/81         NaN   \n",
       "2   Rothmans Cup Triangular Series (Australia, Ind...  1989/90         NaN   \n",
       "3   Benson & Hedges World Cup (in Australia/New Ze...  1991/92         NaN   \n",
       "4                     India in New Zealand ODI Series  1993/94         NaN   \n",
       "5   New Zealand Centenary Tournament (Australia, I...  1994/95         NaN   \n",
       "6                     India in New Zealand ODI Series  1998/99         NaN   \n",
       "7                     India in New Zealand ODI Series  2002/03         NaN   \n",
       "8                     India in New Zealand ODI Series  2008/09         NaN   \n",
       "9                     India in New Zealand ODI Series  2013/14         NaN   \n",
       "10   ICC Cricket World Cup (in Australia/New Zealand)  2014/15         NaN   \n",
       "11                    India in New Zealand ODI Series  2018/19         NaN   \n",
       "12                    India in New Zealand ODI Series  2019/20         NaN   \n",
       "\n",
       "         Winner   Margin  \n",
       "0   New Zealand  2-0 (2)  \n",
       "1   New Zealand  2-0 (2)  \n",
       "2     Australia      NaN  \n",
       "3      Pakistan      NaN  \n",
       "4         drawn  2-2 (4)  \n",
       "5     Australia      NaN  \n",
       "6         drawn  2-2 (5)  \n",
       "7   New Zealand  5-2 (7)  \n",
       "8         India  3-1 (5)  \n",
       "9   New Zealand  4-0 (5)  \n",
       "10    Australia      NaN  \n",
       "11        India  4-1 (5)  \n",
       "12  New Zealand  3-0 (3)  "
      ]
     },
     "execution_count": 241,
     "metadata": {},
     "output_type": "execute_result"
    }
   ],
   "source": [
    "df4=pd.read_html('https://stats.espncricinfo.com/ci/engine/records/team/series_results.html?class=2;host=5;id=5;id=6;type=headtohead')\n",
    "df4[0]"
   ]
  },
  {
   "cell_type": "code",
   "execution_count": 242,
   "metadata": {},
   "outputs": [],
   "source": [
    "df4[0].to_csv('ind_tour_nz_odi_results.csv')\n",
    "india_tour_nz_odi=pd.read_csv('ind_tour_nz_odi_results.csv')\n",
    "india_tour_nz_odi.drop(columns=['Unnamed: 0','Unnamed: 2'],inplace=True)"
   ]
  },
  {
   "cell_type": "code",
   "execution_count": 243,
   "metadata": {},
   "outputs": [
    {
     "data": {
      "text/plain": [
       "(15.384615384615385, 13)"
      ]
     },
     "execution_count": 243,
     "metadata": {},
     "output_type": "execute_result"
    }
   ],
   "source": [
    "ind_tour_nz_odi_total_series=india_tour_nz_odi.shape[0]\n",
    "ind_won_odi_in_nz=india_tour_nz_odi.loc[india_tour_nz_odi.Winner=='India'].shape[0]\n",
    "perc_ind_win_odi_series_in_nz=(ind_won_odi_in_nz)/(ind_tour_nz_odi_total_series)*100\n",
    "perc_ind_win_odi_series_in_nz,ind_tour_nz_odi_total_series"
   ]
  },
  {
   "cell_type": "code",
   "execution_count": 244,
   "metadata": {},
   "outputs": [
    {
     "data": {
      "text/html": [
       "<div>\n",
       "<style scoped>\n",
       "    .dataframe tbody tr th:only-of-type {\n",
       "        vertical-align: middle;\n",
       "    }\n",
       "\n",
       "    .dataframe tbody tr th {\n",
       "        vertical-align: top;\n",
       "    }\n",
       "\n",
       "    .dataframe thead th {\n",
       "        text-align: right;\n",
       "    }\n",
       "</style>\n",
       "<table border=\"1\" class=\"dataframe\">\n",
       "  <thead>\n",
       "    <tr style=\"text-align: right;\">\n",
       "      <th></th>\n",
       "      <th>Series/Tournament</th>\n",
       "      <th>Season</th>\n",
       "      <th>Winner</th>\n",
       "      <th>Margin</th>\n",
       "    </tr>\n",
       "  </thead>\n",
       "  <tbody>\n",
       "    <tr>\n",
       "      <th>8</th>\n",
       "      <td>India in New Zealand ODI Series</td>\n",
       "      <td>2008/09</td>\n",
       "      <td>India</td>\n",
       "      <td>3-1 (5)</td>\n",
       "    </tr>\n",
       "    <tr>\n",
       "      <th>11</th>\n",
       "      <td>India in New Zealand ODI Series</td>\n",
       "      <td>2018/19</td>\n",
       "      <td>India</td>\n",
       "      <td>4-1 (5)</td>\n",
       "    </tr>\n",
       "  </tbody>\n",
       "</table>\n",
       "</div>"
      ],
      "text/plain": [
       "                  Series/Tournament   Season Winner   Margin\n",
       "8   India in New Zealand ODI Series  2008/09  India  3-1 (5)\n",
       "11  India in New Zealand ODI Series  2018/19  India  4-1 (5)"
      ]
     },
     "execution_count": 244,
     "metadata": {},
     "output_type": "execute_result"
    }
   ],
   "source": [
    "india_tour_nz_odi.loc[india_tour_nz_odi.Winner=='India']"
   ]
  },
  {
   "cell_type": "code",
   "execution_count": 245,
   "metadata": {},
   "outputs": [
    {
     "data": {
      "text/html": [
       "<div>\n",
       "<style scoped>\n",
       "    .dataframe tbody tr th:only-of-type {\n",
       "        vertical-align: middle;\n",
       "    }\n",
       "\n",
       "    .dataframe tbody tr th {\n",
       "        vertical-align: top;\n",
       "    }\n",
       "\n",
       "    .dataframe thead th {\n",
       "        text-align: right;\n",
       "    }\n",
       "</style>\n",
       "<table border=\"1\" class=\"dataframe\">\n",
       "  <thead>\n",
       "    <tr style=\"text-align: right;\">\n",
       "      <th></th>\n",
       "      <th>Team 1</th>\n",
       "      <th>Team 2</th>\n",
       "      <th>Winner</th>\n",
       "      <th>Margin</th>\n",
       "      <th>Ground</th>\n",
       "      <th>Match Date</th>\n",
       "      <th>Scorecard</th>\n",
       "    </tr>\n",
       "  </thead>\n",
       "  <tbody>\n",
       "    <tr>\n",
       "      <th>0</th>\n",
       "      <td>New Zealand</td>\n",
       "      <td>India</td>\n",
       "      <td>India</td>\n",
       "      <td>5 wickets</td>\n",
       "      <td>Dunedin</td>\n",
       "      <td>Feb 15-20, 1968</td>\n",
       "      <td>Test # 630</td>\n",
       "    </tr>\n",
       "    <tr>\n",
       "      <th>1</th>\n",
       "      <td>New Zealand</td>\n",
       "      <td>India</td>\n",
       "      <td>New Zealand</td>\n",
       "      <td>6 wickets</td>\n",
       "      <td>Christchurch</td>\n",
       "      <td>Feb 22-27, 1968</td>\n",
       "      <td>Test # 631</td>\n",
       "    </tr>\n",
       "    <tr>\n",
       "      <th>2</th>\n",
       "      <td>New Zealand</td>\n",
       "      <td>India</td>\n",
       "      <td>India</td>\n",
       "      <td>8 wickets</td>\n",
       "      <td>Wellington</td>\n",
       "      <td>Feb 29-Mar 4, 1968</td>\n",
       "      <td>Test # 632</td>\n",
       "    </tr>\n",
       "    <tr>\n",
       "      <th>3</th>\n",
       "      <td>New Zealand</td>\n",
       "      <td>India</td>\n",
       "      <td>India</td>\n",
       "      <td>272 runs</td>\n",
       "      <td>Auckland</td>\n",
       "      <td>Mar 7-12, 1968</td>\n",
       "      <td>Test # 634</td>\n",
       "    </tr>\n",
       "    <tr>\n",
       "      <th>4</th>\n",
       "      <td>New Zealand</td>\n",
       "      <td>India</td>\n",
       "      <td>India</td>\n",
       "      <td>8 wickets</td>\n",
       "      <td>Auckland</td>\n",
       "      <td>Jan 24-28, 1976</td>\n",
       "      <td>Test # 769</td>\n",
       "    </tr>\n",
       "    <tr>\n",
       "      <th>5</th>\n",
       "      <td>New Zealand</td>\n",
       "      <td>India</td>\n",
       "      <td>drawn</td>\n",
       "      <td>NaN</td>\n",
       "      <td>Christchurch</td>\n",
       "      <td>Feb 5-10, 1976</td>\n",
       "      <td>Test # 771</td>\n",
       "    </tr>\n",
       "    <tr>\n",
       "      <th>6</th>\n",
       "      <td>New Zealand</td>\n",
       "      <td>India</td>\n",
       "      <td>New Zealand</td>\n",
       "      <td>inns &amp; 33 runs</td>\n",
       "      <td>Wellington</td>\n",
       "      <td>Feb 13-17, 1976</td>\n",
       "      <td>Test # 772</td>\n",
       "    </tr>\n",
       "    <tr>\n",
       "      <th>7</th>\n",
       "      <td>New Zealand</td>\n",
       "      <td>India</td>\n",
       "      <td>New Zealand</td>\n",
       "      <td>62 runs</td>\n",
       "      <td>Wellington</td>\n",
       "      <td>Feb 21-25, 1981</td>\n",
       "      <td>Test # 897</td>\n",
       "    </tr>\n",
       "    <tr>\n",
       "      <th>8</th>\n",
       "      <td>New Zealand</td>\n",
       "      <td>India</td>\n",
       "      <td>drawn</td>\n",
       "      <td>NaN</td>\n",
       "      <td>Christchurch</td>\n",
       "      <td>Mar 6-11, 1981</td>\n",
       "      <td>Test # 898</td>\n",
       "    </tr>\n",
       "    <tr>\n",
       "      <th>9</th>\n",
       "      <td>New Zealand</td>\n",
       "      <td>India</td>\n",
       "      <td>drawn</td>\n",
       "      <td>NaN</td>\n",
       "      <td>Auckland</td>\n",
       "      <td>Mar 13-18, 1981</td>\n",
       "      <td>Test # 899</td>\n",
       "    </tr>\n",
       "    <tr>\n",
       "      <th>10</th>\n",
       "      <td>New Zealand</td>\n",
       "      <td>India</td>\n",
       "      <td>New Zealand</td>\n",
       "      <td>10 wickets</td>\n",
       "      <td>Christchurch</td>\n",
       "      <td>Feb 2-5, 1990</td>\n",
       "      <td>Test # 1136</td>\n",
       "    </tr>\n",
       "    <tr>\n",
       "      <th>11</th>\n",
       "      <td>New Zealand</td>\n",
       "      <td>India</td>\n",
       "      <td>drawn</td>\n",
       "      <td>NaN</td>\n",
       "      <td>Napier</td>\n",
       "      <td>Feb 9-13, 1990</td>\n",
       "      <td>Test # 1138</td>\n",
       "    </tr>\n",
       "    <tr>\n",
       "      <th>12</th>\n",
       "      <td>New Zealand</td>\n",
       "      <td>India</td>\n",
       "      <td>drawn</td>\n",
       "      <td>NaN</td>\n",
       "      <td>Auckland</td>\n",
       "      <td>Feb 22-26, 1990</td>\n",
       "      <td>Test # 1139</td>\n",
       "    </tr>\n",
       "    <tr>\n",
       "      <th>13</th>\n",
       "      <td>New Zealand</td>\n",
       "      <td>India</td>\n",
       "      <td>drawn</td>\n",
       "      <td>NaN</td>\n",
       "      <td>Hamilton</td>\n",
       "      <td>Mar 19-23, 1994</td>\n",
       "      <td>Test # 1255</td>\n",
       "    </tr>\n",
       "    <tr>\n",
       "      <th>14</th>\n",
       "      <td>New Zealand</td>\n",
       "      <td>India</td>\n",
       "      <td>abandoned</td>\n",
       "      <td>NaN</td>\n",
       "      <td>Dunedin</td>\n",
       "      <td>Dec 18-22, 1998</td>\n",
       "      <td>Test # 1434b</td>\n",
       "    </tr>\n",
       "    <tr>\n",
       "      <th>15</th>\n",
       "      <td>New Zealand</td>\n",
       "      <td>India</td>\n",
       "      <td>New Zealand</td>\n",
       "      <td>4 wickets</td>\n",
       "      <td>Wellington</td>\n",
       "      <td>Dec 26-30, 1998</td>\n",
       "      <td>Test # 1435</td>\n",
       "    </tr>\n",
       "    <tr>\n",
       "      <th>16</th>\n",
       "      <td>New Zealand</td>\n",
       "      <td>India</td>\n",
       "      <td>drawn</td>\n",
       "      <td>NaN</td>\n",
       "      <td>Hamilton</td>\n",
       "      <td>Jan 2-6, 1999</td>\n",
       "      <td>Test # 1438</td>\n",
       "    </tr>\n",
       "    <tr>\n",
       "      <th>17</th>\n",
       "      <td>New Zealand</td>\n",
       "      <td>India</td>\n",
       "      <td>New Zealand</td>\n",
       "      <td>10 wickets</td>\n",
       "      <td>Wellington</td>\n",
       "      <td>Dec 12-14, 2002</td>\n",
       "      <td>Test # 1631</td>\n",
       "    </tr>\n",
       "    <tr>\n",
       "      <th>18</th>\n",
       "      <td>New Zealand</td>\n",
       "      <td>India</td>\n",
       "      <td>New Zealand</td>\n",
       "      <td>4 wickets</td>\n",
       "      <td>Hamilton</td>\n",
       "      <td>Dec 19-22, 2002</td>\n",
       "      <td>Test # 1633</td>\n",
       "    </tr>\n",
       "    <tr>\n",
       "      <th>19</th>\n",
       "      <td>New Zealand</td>\n",
       "      <td>India</td>\n",
       "      <td>India</td>\n",
       "      <td>10 wickets</td>\n",
       "      <td>Hamilton</td>\n",
       "      <td>Mar 18-21, 2009</td>\n",
       "      <td>Test # 1915</td>\n",
       "    </tr>\n",
       "    <tr>\n",
       "      <th>20</th>\n",
       "      <td>New Zealand</td>\n",
       "      <td>India</td>\n",
       "      <td>drawn</td>\n",
       "      <td>NaN</td>\n",
       "      <td>Napier</td>\n",
       "      <td>Mar 26-30, 2009</td>\n",
       "      <td>Test # 1917</td>\n",
       "    </tr>\n",
       "    <tr>\n",
       "      <th>21</th>\n",
       "      <td>New Zealand</td>\n",
       "      <td>India</td>\n",
       "      <td>drawn</td>\n",
       "      <td>NaN</td>\n",
       "      <td>Wellington</td>\n",
       "      <td>Apr 3-7, 2009</td>\n",
       "      <td>Test # 1918</td>\n",
       "    </tr>\n",
       "    <tr>\n",
       "      <th>22</th>\n",
       "      <td>New Zealand</td>\n",
       "      <td>India</td>\n",
       "      <td>New Zealand</td>\n",
       "      <td>40 runs</td>\n",
       "      <td>Auckland</td>\n",
       "      <td>Feb 6-9, 2014</td>\n",
       "      <td>Test # 2118</td>\n",
       "    </tr>\n",
       "    <tr>\n",
       "      <th>23</th>\n",
       "      <td>New Zealand</td>\n",
       "      <td>India</td>\n",
       "      <td>drawn</td>\n",
       "      <td>NaN</td>\n",
       "      <td>Wellington</td>\n",
       "      <td>Feb 14-18, 2014</td>\n",
       "      <td>Test # 2120</td>\n",
       "    </tr>\n",
       "    <tr>\n",
       "      <th>24</th>\n",
       "      <td>New Zealand</td>\n",
       "      <td>India</td>\n",
       "      <td>New Zealand</td>\n",
       "      <td>10 wickets</td>\n",
       "      <td>Wellington</td>\n",
       "      <td>Feb 21-24, 2020</td>\n",
       "      <td>Test # 2385</td>\n",
       "    </tr>\n",
       "    <tr>\n",
       "      <th>25</th>\n",
       "      <td>New Zealand</td>\n",
       "      <td>India</td>\n",
       "      <td>New Zealand</td>\n",
       "      <td>7 wickets</td>\n",
       "      <td>Christchurch</td>\n",
       "      <td>Feb 29-Mar 2, 2020</td>\n",
       "      <td>Test # 2387</td>\n",
       "    </tr>\n",
       "  </tbody>\n",
       "</table>\n",
       "</div>"
      ],
      "text/plain": [
       "         Team 1 Team 2       Winner          Margin        Ground  \\\n",
       "0   New Zealand  India        India       5 wickets       Dunedin   \n",
       "1   New Zealand  India  New Zealand       6 wickets  Christchurch   \n",
       "2   New Zealand  India        India       8 wickets    Wellington   \n",
       "3   New Zealand  India        India        272 runs      Auckland   \n",
       "4   New Zealand  India        India       8 wickets      Auckland   \n",
       "5   New Zealand  India        drawn             NaN  Christchurch   \n",
       "6   New Zealand  India  New Zealand  inns & 33 runs    Wellington   \n",
       "7   New Zealand  India  New Zealand         62 runs    Wellington   \n",
       "8   New Zealand  India        drawn             NaN  Christchurch   \n",
       "9   New Zealand  India        drawn             NaN      Auckland   \n",
       "10  New Zealand  India  New Zealand      10 wickets  Christchurch   \n",
       "11  New Zealand  India        drawn             NaN        Napier   \n",
       "12  New Zealand  India        drawn             NaN      Auckland   \n",
       "13  New Zealand  India        drawn             NaN      Hamilton   \n",
       "14  New Zealand  India    abandoned             NaN       Dunedin   \n",
       "15  New Zealand  India  New Zealand       4 wickets    Wellington   \n",
       "16  New Zealand  India        drawn             NaN      Hamilton   \n",
       "17  New Zealand  India  New Zealand      10 wickets    Wellington   \n",
       "18  New Zealand  India  New Zealand       4 wickets      Hamilton   \n",
       "19  New Zealand  India        India      10 wickets      Hamilton   \n",
       "20  New Zealand  India        drawn             NaN        Napier   \n",
       "21  New Zealand  India        drawn             NaN    Wellington   \n",
       "22  New Zealand  India  New Zealand         40 runs      Auckland   \n",
       "23  New Zealand  India        drawn             NaN    Wellington   \n",
       "24  New Zealand  India  New Zealand      10 wickets    Wellington   \n",
       "25  New Zealand  India  New Zealand       7 wickets  Christchurch   \n",
       "\n",
       "            Match Date     Scorecard  \n",
       "0      Feb 15-20, 1968    Test # 630  \n",
       "1      Feb 22-27, 1968    Test # 631  \n",
       "2   Feb 29-Mar 4, 1968    Test # 632  \n",
       "3       Mar 7-12, 1968    Test # 634  \n",
       "4      Jan 24-28, 1976    Test # 769  \n",
       "5       Feb 5-10, 1976    Test # 771  \n",
       "6      Feb 13-17, 1976    Test # 772  \n",
       "7      Feb 21-25, 1981    Test # 897  \n",
       "8       Mar 6-11, 1981    Test # 898  \n",
       "9      Mar 13-18, 1981    Test # 899  \n",
       "10       Feb 2-5, 1990   Test # 1136  \n",
       "11      Feb 9-13, 1990   Test # 1138  \n",
       "12     Feb 22-26, 1990   Test # 1139  \n",
       "13     Mar 19-23, 1994   Test # 1255  \n",
       "14     Dec 18-22, 1998  Test # 1434b  \n",
       "15     Dec 26-30, 1998   Test # 1435  \n",
       "16       Jan 2-6, 1999   Test # 1438  \n",
       "17     Dec 12-14, 2002   Test # 1631  \n",
       "18     Dec 19-22, 2002   Test # 1633  \n",
       "19     Mar 18-21, 2009   Test # 1915  \n",
       "20     Mar 26-30, 2009   Test # 1917  \n",
       "21       Apr 3-7, 2009   Test # 1918  \n",
       "22       Feb 6-9, 2014   Test # 2118  \n",
       "23     Feb 14-18, 2014   Test # 2120  \n",
       "24     Feb 21-24, 2020   Test # 2385  \n",
       "25  Feb 29-Mar 2, 2020   Test # 2387  "
      ]
     },
     "execution_count": 245,
     "metadata": {},
     "output_type": "execute_result"
    }
   ],
   "source": [
    "df5=pd.read_html('https://stats.espncricinfo.com/ci/engine/records/team/match_results.html?class=1;host=5;id=5;id=6;type=headtohead')\n",
    "df5[0]"
   ]
  },
  {
   "cell_type": "code",
   "execution_count": 246,
   "metadata": {},
   "outputs": [
    {
     "data": {
      "text/html": [
       "<div>\n",
       "<style scoped>\n",
       "    .dataframe tbody tr th:only-of-type {\n",
       "        vertical-align: middle;\n",
       "    }\n",
       "\n",
       "    .dataframe tbody tr th {\n",
       "        vertical-align: top;\n",
       "    }\n",
       "\n",
       "    .dataframe thead th {\n",
       "        text-align: right;\n",
       "    }\n",
       "</style>\n",
       "<table border=\"1\" class=\"dataframe\">\n",
       "  <thead>\n",
       "    <tr style=\"text-align: right;\">\n",
       "      <th></th>\n",
       "      <th>Unnamed: 0</th>\n",
       "      <th>Team 1</th>\n",
       "      <th>Team 2</th>\n",
       "      <th>Winner</th>\n",
       "      <th>Margin</th>\n",
       "      <th>Ground</th>\n",
       "      <th>Match Date</th>\n",
       "      <th>Scorecard</th>\n",
       "    </tr>\n",
       "  </thead>\n",
       "  <tbody>\n",
       "    <tr>\n",
       "      <th>0</th>\n",
       "      <td>0</td>\n",
       "      <td>New Zealand</td>\n",
       "      <td>India</td>\n",
       "      <td>India</td>\n",
       "      <td>5 wickets</td>\n",
       "      <td>Dunedin</td>\n",
       "      <td>Feb 15-20, 1968</td>\n",
       "      <td>Test # 630</td>\n",
       "    </tr>\n",
       "    <tr>\n",
       "      <th>1</th>\n",
       "      <td>1</td>\n",
       "      <td>New Zealand</td>\n",
       "      <td>India</td>\n",
       "      <td>New Zealand</td>\n",
       "      <td>6 wickets</td>\n",
       "      <td>Christchurch</td>\n",
       "      <td>Feb 22-27, 1968</td>\n",
       "      <td>Test # 631</td>\n",
       "    </tr>\n",
       "    <tr>\n",
       "      <th>2</th>\n",
       "      <td>2</td>\n",
       "      <td>New Zealand</td>\n",
       "      <td>India</td>\n",
       "      <td>India</td>\n",
       "      <td>8 wickets</td>\n",
       "      <td>Wellington</td>\n",
       "      <td>Feb 29-Mar 4, 1968</td>\n",
       "      <td>Test # 632</td>\n",
       "    </tr>\n",
       "    <tr>\n",
       "      <th>3</th>\n",
       "      <td>3</td>\n",
       "      <td>New Zealand</td>\n",
       "      <td>India</td>\n",
       "      <td>India</td>\n",
       "      <td>272 runs</td>\n",
       "      <td>Auckland</td>\n",
       "      <td>Mar 7-12, 1968</td>\n",
       "      <td>Test # 634</td>\n",
       "    </tr>\n",
       "    <tr>\n",
       "      <th>4</th>\n",
       "      <td>4</td>\n",
       "      <td>New Zealand</td>\n",
       "      <td>India</td>\n",
       "      <td>India</td>\n",
       "      <td>8 wickets</td>\n",
       "      <td>Auckland</td>\n",
       "      <td>Jan 24-28, 1976</td>\n",
       "      <td>Test # 769</td>\n",
       "    </tr>\n",
       "  </tbody>\n",
       "</table>\n",
       "</div>"
      ],
      "text/plain": [
       "   Unnamed: 0       Team 1 Team 2       Winner     Margin        Ground  \\\n",
       "0           0  New Zealand  India        India  5 wickets       Dunedin   \n",
       "1           1  New Zealand  India  New Zealand  6 wickets  Christchurch   \n",
       "2           2  New Zealand  India        India  8 wickets    Wellington   \n",
       "3           3  New Zealand  India        India   272 runs      Auckland   \n",
       "4           4  New Zealand  India        India  8 wickets      Auckland   \n",
       "\n",
       "           Match Date   Scorecard  \n",
       "0     Feb 15-20, 1968  Test # 630  \n",
       "1     Feb 22-27, 1968  Test # 631  \n",
       "2  Feb 29-Mar 4, 1968  Test # 632  \n",
       "3      Mar 7-12, 1968  Test # 634  \n",
       "4     Jan 24-28, 1976  Test # 769  "
      ]
     },
     "execution_count": 246,
     "metadata": {},
     "output_type": "execute_result"
    }
   ],
   "source": [
    "df5[0].to_csv('indvsnz_test_match_results.csv')\n",
    "ind_tour_nz_test_match=pd.read_csv('indvsnz_test_match_results.csv')\n",
    "ind_tour_nz_test_match.head()"
   ]
  },
  {
   "cell_type": "code",
   "execution_count": 248,
   "metadata": {},
   "outputs": [
    {
     "data": {
      "text/plain": [
       "26"
      ]
     },
     "execution_count": 248,
     "metadata": {},
     "output_type": "execute_result"
    }
   ],
   "source": [
    "ind_tour_nz_test_match[['Date','Year']] = ind_tour_nz_test_match['Match Date'].str.split(\",\",expand=True,)\n",
    "ind_tour_nz_test_match.drop(columns='Match Date')\n",
    "# ind_tour_nz_test_match=ind_tour_nz_test_match.drop(columns=['Match Date','Unnamed: 0'],inplace=True)\n",
    "ind_tour_nz_test_match.shape[0]"
   ]
  },
  {
   "cell_type": "code",
   "execution_count": 250,
   "metadata": {},
   "outputs": [
    {
     "data": {
      "text/plain": [
       "19.230769230769234"
      ]
     },
     "execution_count": 250,
     "metadata": {},
     "output_type": "execute_result"
    }
   ],
   "source": [
    "ind_tour_nz_test_match.loc[ind_tour_nz_test_match.Winner=='India']\n",
    "ind_tour_nz_test_match_wins=ind_tour_nz_test_match.loc[ind_tour_nz_test_match.Winner=='India'].shape[0]\n",
    "ind_tour_nz_test_match_win_perc=(ind_tour_nz_test_match_wins/ind_tour_nz_test_match.shape[0])*100\n",
    "ind_tour_nz_test_match_win_perc"
   ]
  },
  {
   "cell_type": "code",
   "execution_count": 215,
   "metadata": {},
   "outputs": [
    {
     "data": {
      "text/plain": [
       "42"
      ]
     },
     "execution_count": 215,
     "metadata": {},
     "output_type": "execute_result"
    }
   ],
   "source": [
    "df6=pd.read_html('https://stats.espncricinfo.com/ci/engine/records/team/match_results.html?class=2;host=5;id=5;id=6;type=headtohead')\n",
    "df6[0].to_csv('indvsnz_odi_match_results.csv')\n",
    "ind_tour_nz_odi_matches=pd.read_csv('indvsnz_odi_match_results.csv')\n",
    "\n",
    "ind_tour_nz_odi_matches[['Date','Year']] = ind_tour_nz_odi_matches['Match Date'].str.split(\",\",expand=True,)\n",
    "ind_tour_nz_odi_matches[['Month','Date']] = ind_tour_nz_odi_matches['Date'].str.split(\" \",expand=True,)\n",
    "ind_tour_nz_odi_matches.drop(columns='Match Date',inplace=True)\n",
    "total_ind_tour_nz_odi=ind_tour_nz_odi_matches.shape[0]\n",
    "total_ind_tour_nz_odi\n"
   ]
  },
  {
   "cell_type": "code",
   "execution_count": 216,
   "metadata": {},
   "outputs": [
    {
     "data": {
      "text/plain": [
       "33.33333333333333"
      ]
     },
     "execution_count": 216,
     "metadata": {},
     "output_type": "execute_result"
    }
   ],
   "source": [
    "ind_won_odi_in_nz=ind_tour_nz_odi_matches.loc[ind_tour_nz_odi_matches.Winner=='India'].shape[0]\n",
    "ind_won_odi_in_nz\n",
    "perc_ind_win_odi_in_nz=(ind_won_odi_in_nz)/(total_ind_tour_nz_odi)*100\n",
    "perc_ind_win_odi_in_nz"
   ]
  }
 ],
 "metadata": {
  "kernelspec": {
   "display_name": "Python 3.9.5 64-bit",
   "language": "python",
   "name": "python3"
  },
  "language_info": {
   "codemirror_mode": {
    "name": "ipython",
    "version": 3
   },
   "file_extension": ".py",
   "mimetype": "text/x-python",
   "name": "python",
   "nbconvert_exporter": "python",
   "pygments_lexer": "ipython3",
   "version": "3.9.5"
  },
  "orig_nbformat": 4,
  "vscode": {
   "interpreter": {
    "hash": "39e831124cf3cb40e3b6a562e8377c0728ec4db52f69a59c9d07bc0d31a3946c"
   }
  }
 },
 "nbformat": 4,
 "nbformat_minor": 2
}
